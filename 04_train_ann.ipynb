{
 "cells": [
  {
   "cell_type": "code",
   "execution_count": 189,
   "metadata": {},
   "outputs": [],
   "source": [
    "import csv\n",
    "import math\n",
    "import sys\n",
    "from datetime import datetime as dt\n",
    "from datetime import timezone as tz\n",
    "\n",
    "import numpy as np\n",
    "import pandas as pd\n",
    "import pytz as pytz\n",
    "from keras.layers import Dense, Flatten\n",
    "from keras.models import Sequential\n",
    "from scipy.sparse import data\n",
    "from sklearn.utils import validation\n",
    "import tensorflow as tf\n",
    "from tensorflow import keras\n",
    "from keras.callbacks import EarlyStopping\n",
    "from keras.callbacks import ModelCheckpoint\n",
    "from keras.models import load_model\n",
    "\n",
    "import utility"
   ]
  },
  {
   "cell_type": "code",
   "execution_count": 190,
   "metadata": {},
   "outputs": [],
   "source": [
    "import os"
   ]
  },
  {
   "cell_type": "code",
   "execution_count": 191,
   "metadata": {},
   "outputs": [
    {
     "data": {
      "text/plain": [
       "'/Users/linusrandud/.pyenv/versions/3.10.14/envs/GhostPostCC'"
      ]
     },
     "execution_count": 191,
     "metadata": {},
     "output_type": "execute_result"
    }
   ],
   "source": [
    "os.environ['VIRTUAL_ENV']"
   ]
  },
  {
   "cell_type": "code",
   "execution_count": 192,
   "metadata": {},
   "outputs": [],
   "source": [
    "source = 'coal'\n",
    "IN_FILE_NAME = \"data/MW_electricity_cleaned.csv\"\n",
    "\n",
    "OUT_FILE_NAME_PREFIX = 'data/src_prod_forecast'\n",
    "OUT_FILE_NAME = OUT_FILE_NAME_PREFIX + \"_\" + source + \".csv\""
   ]
  },
  {
   "cell_type": "code",
   "execution_count": 193,
   "metadata": {},
   "outputs": [],
   "source": [
    "NUM_FEATURES_DICT = {\"coal\":6, \"nat_gas\":6, \"nuclear\":6, \"oil\":6, \"hydro\":11, \"solar\": 11,\n",
    "                    \"wind\":11, \"others\": 6}\n",
    "\n",
    "NUM_VAL_DAYS = 30\n",
    "NUM_TEST_DAYS = 184\n",
    "TRAINING_WINDOW_HOURS = 24\n",
    "PREDICTION_WINDOW_HOURS = 24\n",
    "MODEL_SLIDING_WINDOW_LEN = 24\n",
    "\n",
    "COAL = 1\n",
    "NAT_GAS = 2\n",
    "NUCLEAR = 3\n",
    "OIL = 4\n",
    "HYDRO = 5\n",
    "SOLAR = 6\n",
    "WIND = 7\n",
    "OTHERS = 8 \n",
    "\n",
    "FUEL = {COAL:\"coal\", NAT_GAS:\"nat_gas\", NUCLEAR:\"nuclear\", OIL:\"oil\", HYDRO:\"hydro\", SOLAR:\"solar\", WIND:\"wind\", OTHERS:\"others\"}\n",
    "SOURCE_TO_SOURCE_COL_MAP = {y: x for x, y in FUEL.items()}\n",
    "\n",
    "SOURCE_COL = SOURCE_TO_SOURCE_COL_MAP[source]\n",
    "NUM_FEATURES = NUM_FEATURES_DICT[FUEL[SOURCE_COL]]"
   ]
  },
  {
   "cell_type": "code",
   "execution_count": 194,
   "metadata": {},
   "outputs": [],
   "source": [
    "def initDataset(inFileName, sourceCol):\n",
    "    dataset = pd.read_csv(inFileName, header=0, infer_datetime_format=True, parse_dates=['UTC Time at End of Hour'], index_col=['UTC Time at End of Hour'])\n",
    "\n",
    "    print(dataset.head())\n",
    "    print(dataset.columns)\n",
    "    dateTime = dataset.index.values\n",
    "    \n",
    "    print(\"\\nAdding features related to date & time...\")\n",
    "    modifiedDataset = utility.addDateTimeFeatures(dataset, dateTime, sourceCol)\n",
    "    dataset = modifiedDataset\n",
    "    print(\"Features related to date & time added\")\n",
    "    \n",
    "    for i in range(sourceCol, len(dataset.columns.values)):\n",
    "        col = dataset.columns.values[i]\n",
    "        dataset[col] = dataset[col].astype(np.float64)\n",
    "        # print(col, dataset[col].dtype)\n",
    "\n",
    "    return dataset, dateTime"
   ]
  },
  {
   "cell_type": "code",
   "execution_count": null,
   "metadata": {},
   "outputs": [],
   "source": []
  },
  {
   "cell_type": "code",
   "execution_count": 195,
   "metadata": {},
   "outputs": [],
   "source": [
    "# convert training data into inputs and outputs (labels)\n",
    "def manipulateTrainingDataShape(data, trainWindowHours, labelWindowHours): \n",
    "    print(\"Data shape: \", data.shape)\n",
    "    X, y = list(), list()\n",
    "    # step over the entire history one time step at a time\n",
    "    for i in range(len(data)-(trainWindowHours+labelWindowHours)+1):\n",
    "        # define the end of the input sequence\n",
    "        trainWindow = i + trainWindowHours\n",
    "        labelWindow = trainWindow + labelWindowHours\n",
    "        xInput = data[i:trainWindow, :]\n",
    "        # xInput = xInput.reshape((len(xInput), 1))\n",
    "        X.append(xInput)\n",
    "        y.append(data[trainWindow:labelWindow, 0])\n",
    "        # print(data[trainWindow:labelWindow, 0])\n",
    "    return np.array(X, dtype=np.float64), np.array(y, dtype=np.float64)\n",
    "\n",
    "def manipulateTestDataShape(data, slidingWindowLen, predictionWindowHours, isDates=False): \n",
    "    X = list()\n",
    "    # step over the entire history one time step at a time\n",
    "    for i in range(0, len(data)-(predictionWindowHours)+1, slidingWindowLen):\n",
    "        # define the end of the input sequence\n",
    "        predictionWindow = i + predictionWindowHours\n",
    "        X.append(data[i:predictionWindow])\n",
    "    if (isDates is False):\n",
    "        X = np.array(X, dtype=np.float64)\n",
    "    else:\n",
    "        X = np.array(X)\n",
    "    return X"
   ]
  },
  {
   "cell_type": "code",
   "execution_count": 196,
   "metadata": {},
   "outputs": [
    {
     "name": "stderr",
     "output_type": "stream",
     "text": [
      "/var/folders/fh/7sz134vx5jq6_78w16smcs3h0000gn/T/ipykernel_25272/2017388480.py:2: FutureWarning: The argument 'infer_datetime_format' is deprecated and will be removed in a future version. A strict version of it is now the default, see https://pandas.pydata.org/pdeps/0004-consistent-to-datetime-parsing.html. You can safely remove this argument.\n",
      "  dataset = pd.read_csv(inFileName, header=0, infer_datetime_format=True, parse_dates=['UTC Time at End of Hour'], index_col=['UTC Time at End of Hour'])\n"
     ]
    },
    {
     "name": "stdout",
     "output_type": "stream",
     "text": [
      "                         Unnamed: 0  Net Generation (MW) from Coal  \\\n",
      "UTC Time at End of Hour                                              \n",
      "2021-01-01 06:00:00               0                        25367.0   \n",
      "2021-01-01 07:00:00               1                        24662.0   \n",
      "2021-01-01 08:00:00               2                        25365.0   \n",
      "2021-01-01 09:00:00               3                        24811.0   \n",
      "2021-01-01 10:00:00               4                        25041.0   \n",
      "\n",
      "                         Net Generation (MW) from Natural Gas  \\\n",
      "UTC Time at End of Hour                                         \n",
      "2021-01-01 06:00:00                                   15999.0   \n",
      "2021-01-01 07:00:00                                   16063.0   \n",
      "2021-01-01 08:00:00                                   16057.0   \n",
      "2021-01-01 09:00:00                                   15870.0   \n",
      "2021-01-01 10:00:00                                   15755.0   \n",
      "\n",
      "                         Net Generation (MW) from Nuclear  \\\n",
      "UTC Time at End of Hour                                     \n",
      "2021-01-01 06:00:00                               11534.0   \n",
      "2021-01-01 07:00:00                               11544.0   \n",
      "2021-01-01 08:00:00                               11555.0   \n",
      "2021-01-01 09:00:00                               11560.0   \n",
      "2021-01-01 10:00:00                               11565.0   \n",
      "\n",
      "                         Net Generation (MW) from All Petroleum Products  \\\n",
      "UTC Time at End of Hour                                                    \n",
      "2021-01-01 06:00:00                                                  NaN   \n",
      "2021-01-01 07:00:00                                                  NaN   \n",
      "2021-01-01 08:00:00                                                  NaN   \n",
      "2021-01-01 09:00:00                                                  NaN   \n",
      "2021-01-01 10:00:00                                                  NaN   \n",
      "\n",
      "                         Net Generation (MW) from Hydropower and Pumped Storage  \\\n",
      "UTC Time at End of Hour                                                           \n",
      "2021-01-01 06:00:00                                                  714.0        \n",
      "2021-01-01 07:00:00                                                  664.0        \n",
      "2021-01-01 08:00:00                                                  661.0        \n",
      "2021-01-01 09:00:00                                                  664.0        \n",
      "2021-01-01 10:00:00                                                  668.0        \n",
      "\n",
      "                         Net Generation (MW) from Solar  \\\n",
      "UTC Time at End of Hour                                   \n",
      "2021-01-01 06:00:00                                 0.0   \n",
      "2021-01-01 07:00:00                                 0.0   \n",
      "2021-01-01 08:00:00                                 0.0   \n",
      "2021-01-01 09:00:00                                 0.0   \n",
      "2021-01-01 10:00:00                                 0.0   \n",
      "\n",
      "                         Net Generation (MW) from Wind  \\\n",
      "UTC Time at End of Hour                                  \n",
      "2021-01-01 06:00:00                             9486.0   \n",
      "2021-01-01 07:00:00                             8780.0   \n",
      "2021-01-01 08:00:00                             6912.0   \n",
      "2021-01-01 09:00:00                             5967.0   \n",
      "2021-01-01 10:00:00                             5074.0   \n",
      "\n",
      "                         Net Generation (MW) from Other  \n",
      "UTC Time at End of Hour                                  \n",
      "2021-01-01 06:00:00                               840.0  \n",
      "2021-01-01 07:00:00                               840.0  \n",
      "2021-01-01 08:00:00                               839.0  \n",
      "2021-01-01 09:00:00                               840.0  \n",
      "2021-01-01 10:00:00                               844.0  \n",
      "Index(['Unnamed: 0', 'Net Generation (MW) from Coal',\n",
      "       'Net Generation (MW) from Natural Gas',\n",
      "       'Net Generation (MW) from Nuclear',\n",
      "       'Net Generation (MW) from All Petroleum Products',\n",
      "       'Net Generation (MW) from Hydropower and Pumped Storage',\n",
      "       'Net Generation (MW) from Solar', 'Net Generation (MW) from Wind',\n",
      "       'Net Generation (MW) from Other'],\n",
      "      dtype='object')\n",
      "\n",
      "Adding features related to date & time...\n",
      "18738 7536\n",
      "                         Unnamed: 0  Net Generation (MW) from Coal  hour_sin  \\\n",
      "UTC Time at End of Hour                                                        \n",
      "2021-01-01 06:00:00               0                        25367.0  1.000000   \n",
      "2021-01-01 07:00:00               1                        24662.0  0.965926   \n",
      "2021-01-01 08:00:00               2                        25365.0  0.866025   \n",
      "2021-01-01 09:00:00               3                        24811.0  0.707107   \n",
      "2021-01-01 10:00:00               4                        25041.0  0.500000   \n",
      "\n",
      "                             hour_cos  month_sin  month_cos  weekend  \\\n",
      "UTC Time at End of Hour                                                \n",
      "2021-01-01 06:00:00      6.123234e-17   0.008601   0.999963        0   \n",
      "2021-01-01 07:00:00     -2.588190e-01   0.009318   0.999957        0   \n",
      "2021-01-01 08:00:00     -5.000000e-01   0.010035   0.999950        0   \n",
      "2021-01-01 09:00:00     -7.071068e-01   0.010751   0.999942        0   \n",
      "2021-01-01 10:00:00     -8.660254e-01   0.011468   0.999934        0   \n",
      "\n",
      "                         Net Generation (MW) from Natural Gas  \\\n",
      "UTC Time at End of Hour                                         \n",
      "2021-01-01 06:00:00                                   15999.0   \n",
      "2021-01-01 07:00:00                                   16063.0   \n",
      "2021-01-01 08:00:00                                   16057.0   \n",
      "2021-01-01 09:00:00                                   15870.0   \n",
      "2021-01-01 10:00:00                                   15755.0   \n",
      "\n",
      "                         Net Generation (MW) from Nuclear  \\\n",
      "UTC Time at End of Hour                                     \n",
      "2021-01-01 06:00:00                               11534.0   \n",
      "2021-01-01 07:00:00                               11544.0   \n",
      "2021-01-01 08:00:00                               11555.0   \n",
      "2021-01-01 09:00:00                               11560.0   \n",
      "2021-01-01 10:00:00                               11565.0   \n",
      "\n",
      "                         Net Generation (MW) from All Petroleum Products  \\\n",
      "UTC Time at End of Hour                                                    \n",
      "2021-01-01 06:00:00                                                  NaN   \n",
      "2021-01-01 07:00:00                                                  NaN   \n",
      "2021-01-01 08:00:00                                                  NaN   \n",
      "2021-01-01 09:00:00                                                  NaN   \n",
      "2021-01-01 10:00:00                                                  NaN   \n",
      "\n",
      "                         Net Generation (MW) from Hydropower and Pumped Storage  \\\n",
      "UTC Time at End of Hour                                                           \n",
      "2021-01-01 06:00:00                                                  714.0        \n",
      "2021-01-01 07:00:00                                                  664.0        \n",
      "2021-01-01 08:00:00                                                  661.0        \n",
      "2021-01-01 09:00:00                                                  664.0        \n",
      "2021-01-01 10:00:00                                                  668.0        \n",
      "\n",
      "                         Net Generation (MW) from Solar  \\\n",
      "UTC Time at End of Hour                                   \n",
      "2021-01-01 06:00:00                                 0.0   \n",
      "2021-01-01 07:00:00                                 0.0   \n",
      "2021-01-01 08:00:00                                 0.0   \n",
      "2021-01-01 09:00:00                                 0.0   \n",
      "2021-01-01 10:00:00                                 0.0   \n",
      "\n",
      "                         Net Generation (MW) from Wind  \\\n",
      "UTC Time at End of Hour                                  \n",
      "2021-01-01 06:00:00                             9486.0   \n",
      "2021-01-01 07:00:00                             8780.0   \n",
      "2021-01-01 08:00:00                             6912.0   \n",
      "2021-01-01 09:00:00                             5967.0   \n",
      "2021-01-01 10:00:00                             5074.0   \n",
      "\n",
      "                         Net Generation (MW) from Other  \n",
      "UTC Time at End of Hour                                  \n",
      "2021-01-01 06:00:00                               840.0  \n",
      "2021-01-01 07:00:00                               840.0  \n",
      "2021-01-01 08:00:00                               839.0  \n",
      "2021-01-01 09:00:00                               840.0  \n",
      "2021-01-01 10:00:00                               844.0  \n",
      "Features related to date & time added\n"
     ]
    }
   ],
   "source": [
    "dataset, dateTime = initDataset(IN_FILE_NAME, SOURCE_COL)"
   ]
  },
  {
   "cell_type": "code",
   "execution_count": 197,
   "metadata": {},
   "outputs": [
    {
     "data": {
      "text/html": [
       "<div>\n",
       "<style scoped>\n",
       "    .dataframe tbody tr th:only-of-type {\n",
       "        vertical-align: middle;\n",
       "    }\n",
       "\n",
       "    .dataframe tbody tr th {\n",
       "        vertical-align: top;\n",
       "    }\n",
       "\n",
       "    .dataframe thead th {\n",
       "        text-align: right;\n",
       "    }\n",
       "</style>\n",
       "<table border=\"1\" class=\"dataframe\">\n",
       "  <thead>\n",
       "    <tr style=\"text-align: right;\">\n",
       "      <th></th>\n",
       "      <th>Unnamed: 0</th>\n",
       "      <th>Net Generation (MW) from Coal</th>\n",
       "      <th>hour_sin</th>\n",
       "      <th>hour_cos</th>\n",
       "      <th>month_sin</th>\n",
       "      <th>month_cos</th>\n",
       "      <th>weekend</th>\n",
       "      <th>Net Generation (MW) from Natural Gas</th>\n",
       "      <th>Net Generation (MW) from Nuclear</th>\n",
       "      <th>Net Generation (MW) from All Petroleum Products</th>\n",
       "      <th>Net Generation (MW) from Hydropower and Pumped Storage</th>\n",
       "      <th>Net Generation (MW) from Solar</th>\n",
       "      <th>Net Generation (MW) from Wind</th>\n",
       "      <th>Net Generation (MW) from Other</th>\n",
       "    </tr>\n",
       "    <tr>\n",
       "      <th>UTC Time at End of Hour</th>\n",
       "      <th></th>\n",
       "      <th></th>\n",
       "      <th></th>\n",
       "      <th></th>\n",
       "      <th></th>\n",
       "      <th></th>\n",
       "      <th></th>\n",
       "      <th></th>\n",
       "      <th></th>\n",
       "      <th></th>\n",
       "      <th></th>\n",
       "      <th></th>\n",
       "      <th></th>\n",
       "      <th></th>\n",
       "    </tr>\n",
       "  </thead>\n",
       "  <tbody>\n",
       "    <tr>\n",
       "      <th>2021-01-01 06:00:00</th>\n",
       "      <td>0</td>\n",
       "      <td>25367.0</td>\n",
       "      <td>1.000000</td>\n",
       "      <td>6.123234e-17</td>\n",
       "      <td>0.008601</td>\n",
       "      <td>0.999963</td>\n",
       "      <td>0.0</td>\n",
       "      <td>15999.0</td>\n",
       "      <td>11534.0</td>\n",
       "      <td>NaN</td>\n",
       "      <td>714.0</td>\n",
       "      <td>0.0</td>\n",
       "      <td>9486.0</td>\n",
       "      <td>840.0</td>\n",
       "    </tr>\n",
       "    <tr>\n",
       "      <th>2021-01-01 07:00:00</th>\n",
       "      <td>1</td>\n",
       "      <td>24662.0</td>\n",
       "      <td>0.965926</td>\n",
       "      <td>-2.588190e-01</td>\n",
       "      <td>0.009318</td>\n",
       "      <td>0.999957</td>\n",
       "      <td>0.0</td>\n",
       "      <td>16063.0</td>\n",
       "      <td>11544.0</td>\n",
       "      <td>NaN</td>\n",
       "      <td>664.0</td>\n",
       "      <td>0.0</td>\n",
       "      <td>8780.0</td>\n",
       "      <td>840.0</td>\n",
       "    </tr>\n",
       "    <tr>\n",
       "      <th>2021-01-01 08:00:00</th>\n",
       "      <td>2</td>\n",
       "      <td>25365.0</td>\n",
       "      <td>0.866025</td>\n",
       "      <td>-5.000000e-01</td>\n",
       "      <td>0.010035</td>\n",
       "      <td>0.999950</td>\n",
       "      <td>0.0</td>\n",
       "      <td>16057.0</td>\n",
       "      <td>11555.0</td>\n",
       "      <td>NaN</td>\n",
       "      <td>661.0</td>\n",
       "      <td>0.0</td>\n",
       "      <td>6912.0</td>\n",
       "      <td>839.0</td>\n",
       "    </tr>\n",
       "    <tr>\n",
       "      <th>2021-01-01 09:00:00</th>\n",
       "      <td>3</td>\n",
       "      <td>24811.0</td>\n",
       "      <td>0.707107</td>\n",
       "      <td>-7.071068e-01</td>\n",
       "      <td>0.010751</td>\n",
       "      <td>0.999942</td>\n",
       "      <td>0.0</td>\n",
       "      <td>15870.0</td>\n",
       "      <td>11560.0</td>\n",
       "      <td>NaN</td>\n",
       "      <td>664.0</td>\n",
       "      <td>0.0</td>\n",
       "      <td>5967.0</td>\n",
       "      <td>840.0</td>\n",
       "    </tr>\n",
       "    <tr>\n",
       "      <th>2021-01-01 10:00:00</th>\n",
       "      <td>4</td>\n",
       "      <td>25041.0</td>\n",
       "      <td>0.500000</td>\n",
       "      <td>-8.660254e-01</td>\n",
       "      <td>0.011468</td>\n",
       "      <td>0.999934</td>\n",
       "      <td>0.0</td>\n",
       "      <td>15755.0</td>\n",
       "      <td>11565.0</td>\n",
       "      <td>NaN</td>\n",
       "      <td>668.0</td>\n",
       "      <td>0.0</td>\n",
       "      <td>5074.0</td>\n",
       "      <td>844.0</td>\n",
       "    </tr>\n",
       "    <tr>\n",
       "      <th>...</th>\n",
       "      <td>...</td>\n",
       "      <td>...</td>\n",
       "      <td>...</td>\n",
       "      <td>...</td>\n",
       "      <td>...</td>\n",
       "      <td>...</td>\n",
       "      <td>...</td>\n",
       "      <td>...</td>\n",
       "      <td>...</td>\n",
       "      <td>...</td>\n",
       "      <td>...</td>\n",
       "      <td>...</td>\n",
       "      <td>...</td>\n",
       "      <td>...</td>\n",
       "    </tr>\n",
       "    <tr>\n",
       "      <th>2023-12-31 19:00:00</th>\n",
       "      <td>26269</td>\n",
       "      <td>19663.0</td>\n",
       "      <td>-0.965926</td>\n",
       "      <td>2.588190e-01</td>\n",
       "      <td>-0.012185</td>\n",
       "      <td>0.999926</td>\n",
       "      <td>1.0</td>\n",
       "      <td>26718.0</td>\n",
       "      <td>8205.0</td>\n",
       "      <td>NaN</td>\n",
       "      <td>811.0</td>\n",
       "      <td>1060.0</td>\n",
       "      <td>11799.0</td>\n",
       "      <td>330.0</td>\n",
       "    </tr>\n",
       "    <tr>\n",
       "      <th>2023-12-31 20:00:00</th>\n",
       "      <td>26270</td>\n",
       "      <td>19740.0</td>\n",
       "      <td>-0.866025</td>\n",
       "      <td>5.000000e-01</td>\n",
       "      <td>-0.011468</td>\n",
       "      <td>0.999934</td>\n",
       "      <td>1.0</td>\n",
       "      <td>26912.0</td>\n",
       "      <td>8203.0</td>\n",
       "      <td>NaN</td>\n",
       "      <td>805.0</td>\n",
       "      <td>976.0</td>\n",
       "      <td>11074.0</td>\n",
       "      <td>332.0</td>\n",
       "    </tr>\n",
       "    <tr>\n",
       "      <th>2023-12-31 21:00:00</th>\n",
       "      <td>26271</td>\n",
       "      <td>20145.0</td>\n",
       "      <td>-0.707107</td>\n",
       "      <td>7.071068e-01</td>\n",
       "      <td>-0.010751</td>\n",
       "      <td>0.999942</td>\n",
       "      <td>1.0</td>\n",
       "      <td>26794.0</td>\n",
       "      <td>8204.0</td>\n",
       "      <td>NaN</td>\n",
       "      <td>802.0</td>\n",
       "      <td>825.0</td>\n",
       "      <td>10717.0</td>\n",
       "      <td>340.0</td>\n",
       "    </tr>\n",
       "    <tr>\n",
       "      <th>2023-12-31 22:00:00</th>\n",
       "      <td>26272</td>\n",
       "      <td>21403.0</td>\n",
       "      <td>-0.500000</td>\n",
       "      <td>8.660254e-01</td>\n",
       "      <td>-0.010035</td>\n",
       "      <td>0.999950</td>\n",
       "      <td>1.0</td>\n",
       "      <td>27195.0</td>\n",
       "      <td>8203.0</td>\n",
       "      <td>NaN</td>\n",
       "      <td>850.0</td>\n",
       "      <td>541.0</td>\n",
       "      <td>10181.0</td>\n",
       "      <td>344.0</td>\n",
       "    </tr>\n",
       "    <tr>\n",
       "      <th>2023-12-31 23:00:00</th>\n",
       "      <td>26273</td>\n",
       "      <td>22887.0</td>\n",
       "      <td>-0.258819</td>\n",
       "      <td>9.659258e-01</td>\n",
       "      <td>-0.009318</td>\n",
       "      <td>0.999957</td>\n",
       "      <td>1.0</td>\n",
       "      <td>27978.0</td>\n",
       "      <td>8202.0</td>\n",
       "      <td>NaN</td>\n",
       "      <td>1738.0</td>\n",
       "      <td>152.0</td>\n",
       "      <td>9150.0</td>\n",
       "      <td>358.0</td>\n",
       "    </tr>\n",
       "  </tbody>\n",
       "</table>\n",
       "<p>26274 rows × 14 columns</p>\n",
       "</div>"
      ],
      "text/plain": [
       "                         Unnamed: 0  Net Generation (MW) from Coal  hour_sin  \\\n",
       "UTC Time at End of Hour                                                        \n",
       "2021-01-01 06:00:00               0                        25367.0  1.000000   \n",
       "2021-01-01 07:00:00               1                        24662.0  0.965926   \n",
       "2021-01-01 08:00:00               2                        25365.0  0.866025   \n",
       "2021-01-01 09:00:00               3                        24811.0  0.707107   \n",
       "2021-01-01 10:00:00               4                        25041.0  0.500000   \n",
       "...                             ...                            ...       ...   \n",
       "2023-12-31 19:00:00           26269                        19663.0 -0.965926   \n",
       "2023-12-31 20:00:00           26270                        19740.0 -0.866025   \n",
       "2023-12-31 21:00:00           26271                        20145.0 -0.707107   \n",
       "2023-12-31 22:00:00           26272                        21403.0 -0.500000   \n",
       "2023-12-31 23:00:00           26273                        22887.0 -0.258819   \n",
       "\n",
       "                             hour_cos  month_sin  month_cos  weekend  \\\n",
       "UTC Time at End of Hour                                                \n",
       "2021-01-01 06:00:00      6.123234e-17   0.008601   0.999963      0.0   \n",
       "2021-01-01 07:00:00     -2.588190e-01   0.009318   0.999957      0.0   \n",
       "2021-01-01 08:00:00     -5.000000e-01   0.010035   0.999950      0.0   \n",
       "2021-01-01 09:00:00     -7.071068e-01   0.010751   0.999942      0.0   \n",
       "2021-01-01 10:00:00     -8.660254e-01   0.011468   0.999934      0.0   \n",
       "...                               ...        ...        ...      ...   \n",
       "2023-12-31 19:00:00      2.588190e-01  -0.012185   0.999926      1.0   \n",
       "2023-12-31 20:00:00      5.000000e-01  -0.011468   0.999934      1.0   \n",
       "2023-12-31 21:00:00      7.071068e-01  -0.010751   0.999942      1.0   \n",
       "2023-12-31 22:00:00      8.660254e-01  -0.010035   0.999950      1.0   \n",
       "2023-12-31 23:00:00      9.659258e-01  -0.009318   0.999957      1.0   \n",
       "\n",
       "                         Net Generation (MW) from Natural Gas  \\\n",
       "UTC Time at End of Hour                                         \n",
       "2021-01-01 06:00:00                                   15999.0   \n",
       "2021-01-01 07:00:00                                   16063.0   \n",
       "2021-01-01 08:00:00                                   16057.0   \n",
       "2021-01-01 09:00:00                                   15870.0   \n",
       "2021-01-01 10:00:00                                   15755.0   \n",
       "...                                                       ...   \n",
       "2023-12-31 19:00:00                                   26718.0   \n",
       "2023-12-31 20:00:00                                   26912.0   \n",
       "2023-12-31 21:00:00                                   26794.0   \n",
       "2023-12-31 22:00:00                                   27195.0   \n",
       "2023-12-31 23:00:00                                   27978.0   \n",
       "\n",
       "                         Net Generation (MW) from Nuclear  \\\n",
       "UTC Time at End of Hour                                     \n",
       "2021-01-01 06:00:00                               11534.0   \n",
       "2021-01-01 07:00:00                               11544.0   \n",
       "2021-01-01 08:00:00                               11555.0   \n",
       "2021-01-01 09:00:00                               11560.0   \n",
       "2021-01-01 10:00:00                               11565.0   \n",
       "...                                                   ...   \n",
       "2023-12-31 19:00:00                                8205.0   \n",
       "2023-12-31 20:00:00                                8203.0   \n",
       "2023-12-31 21:00:00                                8204.0   \n",
       "2023-12-31 22:00:00                                8203.0   \n",
       "2023-12-31 23:00:00                                8202.0   \n",
       "\n",
       "                         Net Generation (MW) from All Petroleum Products  \\\n",
       "UTC Time at End of Hour                                                    \n",
       "2021-01-01 06:00:00                                                  NaN   \n",
       "2021-01-01 07:00:00                                                  NaN   \n",
       "2021-01-01 08:00:00                                                  NaN   \n",
       "2021-01-01 09:00:00                                                  NaN   \n",
       "2021-01-01 10:00:00                                                  NaN   \n",
       "...                                                                  ...   \n",
       "2023-12-31 19:00:00                                                  NaN   \n",
       "2023-12-31 20:00:00                                                  NaN   \n",
       "2023-12-31 21:00:00                                                  NaN   \n",
       "2023-12-31 22:00:00                                                  NaN   \n",
       "2023-12-31 23:00:00                                                  NaN   \n",
       "\n",
       "                         Net Generation (MW) from Hydropower and Pumped Storage  \\\n",
       "UTC Time at End of Hour                                                           \n",
       "2021-01-01 06:00:00                                                  714.0        \n",
       "2021-01-01 07:00:00                                                  664.0        \n",
       "2021-01-01 08:00:00                                                  661.0        \n",
       "2021-01-01 09:00:00                                                  664.0        \n",
       "2021-01-01 10:00:00                                                  668.0        \n",
       "...                                                                    ...        \n",
       "2023-12-31 19:00:00                                                  811.0        \n",
       "2023-12-31 20:00:00                                                  805.0        \n",
       "2023-12-31 21:00:00                                                  802.0        \n",
       "2023-12-31 22:00:00                                                  850.0        \n",
       "2023-12-31 23:00:00                                                 1738.0        \n",
       "\n",
       "                         Net Generation (MW) from Solar  \\\n",
       "UTC Time at End of Hour                                   \n",
       "2021-01-01 06:00:00                                 0.0   \n",
       "2021-01-01 07:00:00                                 0.0   \n",
       "2021-01-01 08:00:00                                 0.0   \n",
       "2021-01-01 09:00:00                                 0.0   \n",
       "2021-01-01 10:00:00                                 0.0   \n",
       "...                                                 ...   \n",
       "2023-12-31 19:00:00                              1060.0   \n",
       "2023-12-31 20:00:00                               976.0   \n",
       "2023-12-31 21:00:00                               825.0   \n",
       "2023-12-31 22:00:00                               541.0   \n",
       "2023-12-31 23:00:00                               152.0   \n",
       "\n",
       "                         Net Generation (MW) from Wind  \\\n",
       "UTC Time at End of Hour                                  \n",
       "2021-01-01 06:00:00                             9486.0   \n",
       "2021-01-01 07:00:00                             8780.0   \n",
       "2021-01-01 08:00:00                             6912.0   \n",
       "2021-01-01 09:00:00                             5967.0   \n",
       "2021-01-01 10:00:00                             5074.0   \n",
       "...                                                ...   \n",
       "2023-12-31 19:00:00                            11799.0   \n",
       "2023-12-31 20:00:00                            11074.0   \n",
       "2023-12-31 21:00:00                            10717.0   \n",
       "2023-12-31 22:00:00                            10181.0   \n",
       "2023-12-31 23:00:00                             9150.0   \n",
       "\n",
       "                         Net Generation (MW) from Other  \n",
       "UTC Time at End of Hour                                  \n",
       "2021-01-01 06:00:00                               840.0  \n",
       "2021-01-01 07:00:00                               840.0  \n",
       "2021-01-01 08:00:00                               839.0  \n",
       "2021-01-01 09:00:00                               840.0  \n",
       "2021-01-01 10:00:00                               844.0  \n",
       "...                                                 ...  \n",
       "2023-12-31 19:00:00                               330.0  \n",
       "2023-12-31 20:00:00                               332.0  \n",
       "2023-12-31 21:00:00                               340.0  \n",
       "2023-12-31 22:00:00                               344.0  \n",
       "2023-12-31 23:00:00                               358.0  \n",
       "\n",
       "[26274 rows x 14 columns]"
      ]
     },
     "execution_count": 197,
     "metadata": {},
     "output_type": "execute_result"
    }
   ],
   "source": [
    "dataset"
   ]
  },
  {
   "cell_type": "code",
   "execution_count": null,
   "metadata": {},
   "outputs": [],
   "source": []
  },
  {
   "cell_type": "code",
   "execution_count": 43,
   "metadata": {},
   "outputs": [],
   "source": [
    "def trainANN(trainX, trainY, valX, valY, hyperParams, modelDir):\n",
    "    n_timesteps, n_features, nOutputs = trainX.shape[1], trainX.shape[2], trainY.shape[1]\n",
    "    epochs = 1 #hyperParams['epoch']\n",
    "    batchSize = hyperParams['batchsize']\n",
    "    activationFunc = hyperParams['actv']\n",
    "    lossFunc = hyperParams['loss']\n",
    "    optimizer = hyperParams['optim']\n",
    "    hiddenDims = hyperParams['hidden']\n",
    "    learningRates = hyperParams['lr']\n",
    "    model = Sequential()\n",
    "    model.add(Flatten())\n",
    "    model.add(Dense(hiddenDims[0], input_shape=(n_timesteps, n_features), activation=activationFunc)) # 20 for coal, nat_gas, nuclear\n",
    "    model.add(Dense(hiddenDims[1], activation='relu')) # 50 for coal, nat_gas, nuclear\n",
    "    model.add(Dense(nOutputs))\n",
    "\n",
    "    opt = tf.keras.optimizers.Adam(learning_rate = learningRates)\n",
    "    model.compile(loss=lossFunc, optimizer=optimizer[0],\n",
    "                    metrics=['mean_absolute_error'])\n",
    "    es = EarlyStopping(monitor='val_loss', mode='min', verbose=1, patience=10)\n",
    "    mc = ModelCheckpoint(modelDir, monitor='val_loss', mode='min', verbose=1, save_best_only=True)\n",
    "    # fit network\n",
    "    hist = model.fit(trainX, trainY, epochs=epochs, batch_size=batchSize[0], verbose=2,\n",
    "                        validation_data=(valX, valY), callbacks=[es, mc])\n",
    "    model = load_model(modelDir)\n",
    "    utility.showModelSummary(hist, model)\n",
    "    return model, n_features\n",
    "\n",
    "def getDayAheadForecasts(trainX, trainY, model, history, testData, \n",
    "                            trainWindowHours, numFeatures, depVarColumn):\n",
    "    global MODEL_SLIDING_WINDOW_LEN\n",
    "    global PREDICTION_WINDOW_HOURS\n",
    "    # walk-forward validation over each day\n",
    "    print(\"Testing...\")\n",
    "    predictions = list()\n",
    "    for i in range(0, len(testData)//24):\n",
    "        dayAheadPredictions = list()\n",
    "        tempHistory = history.copy()\n",
    "        currentDayHours = i* MODEL_SLIDING_WINDOW_LEN\n",
    "        for j in range(0, PREDICTION_WINDOW_HOURS, 24):\n",
    "            yhat_sequence, newTrainingData = getForecasts(model, tempHistory, trainWindowHours, numFeatures)\n",
    "            dayAheadPredictions.extend(yhat_sequence)\n",
    "            # add current prediction to history for predicting the next day\n",
    "            # following 3 lines are redundant currently. Will become useful if\n",
    "            # prediction period goes beyond 24 hours.\n",
    "            latestHistory = testData[currentDayHours+j:currentDayHours+j+24, :].tolist()\n",
    "            for k in range(24):\n",
    "                latestHistory[k][depVarColumn] = yhat_sequence[k]\n",
    "            tempHistory.extend(latestHistory)\n",
    "\n",
    "        # get real observation and add to history for predicting the next day\n",
    "        history.extend(testData[currentDayHours:currentDayHours+MODEL_SLIDING_WINDOW_LEN, :].tolist())\n",
    "        predictions.append(dayAheadPredictions)\n",
    "\n",
    "    # evaluate predictions days for each day\n",
    "    predictedData = np.array(predictions, dtype=np.float64)\n",
    "    return predictedData\n",
    "\n",
    "\n",
    "def getForecasts(model, history, trainWindowHours, numFeatures):\n",
    "    # flatten data\n",
    "    data = np.array(history, dtype=np.float64)\n",
    "    # retrieve last observations for input data\n",
    "    input_x = data[-trainWindowHours:]\n",
    "    # reshape into [1, n_input, num_features]\n",
    "    input_x = input_x.reshape((1, len(input_x), numFeatures))\n",
    "    # print(\"ip_x shape: \", input_x.shape)\n",
    "    yhat = model.predict(input_x, verbose=0)\n",
    "    # we only want the vector forecast\n",
    "    yhat = yhat[0]\n",
    "    return yhat, input_x\n",
    "\n",
    "def getANNHyperParams():\n",
    "    hyperParams = {}\n",
    "    hyperParams['epoch'] = 100 \n",
    "    hyperParams['batchsize'] = [10] \n",
    "    hyperParams['actv'] = \"relu\"\n",
    "    hyperParams['loss'] = \"mse\"\n",
    "    hyperParams['optim'] = [\"adam\"] #, \"rmsprop\"]\n",
    "    hyperParams['lr'] = 1e-2 #, 1e-3\n",
    "    hyperParams['hidden'] = [20, 50] #, [50, 50]]#, [20, 50]] #, [50, 50]]\n",
    "    return hyperParams"
   ]
  },
  {
   "cell_type": "code",
   "execution_count": null,
   "metadata": {},
   "outputs": [],
   "source": []
  },
  {
   "cell_type": "markdown",
   "metadata": {},
   "source": [
    "### train"
   ]
  },
  {
   "cell_type": "code",
   "execution_count": 171,
   "metadata": {},
   "outputs": [],
   "source": [
    "import pickle"
   ]
  },
  {
   "cell_type": "code",
   "execution_count": 211,
   "metadata": {},
   "outputs": [],
   "source": [
    "def forecast_all_fuel_sources(fuel_sources):\n",
    "    for source in fuel_sources:\n",
    "        IN_FILE_NAME = f\"data/data_cleaned_{source}.csv\"\n",
    "\n",
    "        OUT_FILE_NAME_PREFIX = 'data/src_prod_forecast'\n",
    "        OUT_FILE_NAME = OUT_FILE_NAME_PREFIX + \"_\" + source + \".csv\"\n",
    "        OUT_MODEL_NAME = 'model/' + source + \"_ann.keras\"\n",
    "\n",
    "        NUM_FEATURES_DICT = {\"coal\": 6, \"nat_gas\": 6, \"nuclear\": 6, \"oil\": 6, \"hydro\": 13, \"solar\": 13,\n",
    "                            \"wind\": 13, \"others\": 6}\n",
    "\n",
    "        SOURCE_COL = 0\n",
    "        NUM_FEATURES = NUM_FEATURES_DICT[source]\n",
    "\n",
    "        dataset, dateTime = initDataset(IN_FILE_NAME, SOURCE_COL)\n",
    "\n",
    "        trainData, valData, testData, fullTrainData = utility.splitDataset(dataset.values, NUM_TEST_DAYS, NUM_VAL_DAYS)\n",
    "        trainDates = dateTime[: -(NUM_TEST_DAYS*24)]\n",
    "        fullTrainDates = np.copy(trainDates)\n",
    "        trainDates, validationDates = trainDates[: -(NUM_VAL_DAYS*24)], trainDates[-(NUM_VAL_DAYS*24):]\n",
    "        testDates = dateTime[-(NUM_TEST_DAYS*24):]\n",
    "        trainData = trainData[:, SOURCE_COL: SOURCE_COL+NUM_FEATURES]\n",
    "        valData = valData[:, SOURCE_COL: SOURCE_COL+NUM_FEATURES]\n",
    "        testData = testData[:, SOURCE_COL: SOURCE_COL+NUM_FEATURES]\n",
    "\n",
    "        print(\"TrainData shape: \", trainData.shape) # (days x hour) x features\n",
    "        print(\"ValData shape: \", valData.shape) # (days x hour) x features\n",
    "        print(\"TestData shape: \", testData.shape) # (days x hour) x features\n",
    "        print(\"***** Dataset split done *****\")\n",
    "\n",
    "        for i in range(trainData.shape[0]):\n",
    "            for j in range(trainData.shape[1]):\n",
    "                if(np.isnan(trainData[i, j])):\n",
    "                    trainData[i, j] = trainData[i-1, j]\n",
    "\n",
    "        for i in range(valData.shape[0]):\n",
    "            for j in range(valData.shape[1]):\n",
    "                if(np.isnan(valData[i, j])):\n",
    "                    valData[i, j] = valData[i-1, j]\n",
    "\n",
    "        for i in range(testData.shape[0]):\n",
    "            for j in range(testData.shape[1]):\n",
    "                if(np.isnan(testData[i, j])):\n",
    "                    testData[i, j] = testData[i-1, j]\n",
    "\n",
    "        featureList = dataset.columns.values[SOURCE_COL:SOURCE_COL+NUM_FEATURES]\n",
    "        print(\"Features: \", featureList)\n",
    "\n",
    "        print(\"Scaling data...\")\n",
    "        trainData, valData, testData, ftMin, ftMax = utility.scaleDataset(trainData, valData, testData)\n",
    "        print(\"***** Data scaling done *****\")\n",
    "        print(trainData.shape, valData.shape, testData.shape)\n",
    "\n",
    "        print(\"\\nManipulating training data...\")\n",
    "        X, y = manipulateTrainingDataShape(trainData, TRAINING_WINDOW_HOURS, TRAINING_WINDOW_HOURS)\n",
    "        valX, valY = manipulateTrainingDataShape(valData, TRAINING_WINDOW_HOURS, TRAINING_WINDOW_HOURS)\n",
    "        print(\"***** Training data manipulation done *****\")\n",
    "        print(\"X.shape, y.shape: \", X.shape, y.shape)\n",
    "\n",
    "        hyperParams = getANNHyperParams()\n",
    "\n",
    "        print(\"\\nStarting training)...\")\n",
    "        bestModel, numFeatures = trainANN(X, y, valX, valY, hyperParams, OUT_MODEL_NAME)\n",
    "        print(\"***** Training done *****\")\n",
    "        history = valData[-TRAINING_WINDOW_HOURS:, :].tolist()\n",
    "        predictedData = getDayAheadForecasts(X, y, bestModel, history, testData, \n",
    "                        TRAINING_WINDOW_HOURS, numFeatures, 0)            \n",
    "        actualData = manipulateTestDataShape(testData[:, 0], \n",
    "                MODEL_SLIDING_WINDOW_LEN, PREDICTION_WINDOW_HOURS, False)\n",
    "        formattedTestDates = manipulateTestDataShape(testDates, \n",
    "                MODEL_SLIDING_WINDOW_LEN, PREDICTION_WINDOW_HOURS, True)\n",
    "        formattedTestDates = np.reshape(formattedTestDates, \n",
    "                formattedTestDates.shape[0]*formattedTestDates.shape[1])\n",
    "        actualData = actualData.astype(np.float64)\n",
    "        print(\"ActualData shape: \", actualData.shape)\n",
    "        actual = np.reshape(actualData, actualData.shape[0]*actualData.shape[1])\n",
    "        print(\"actual.shape: \", actual.shape)\n",
    "        unscaledTestData = utility.inverseDataScaling(actual, ftMax[0], \n",
    "                        ftMin[0])\n",
    "        predictedData = predictedData.astype(np.float64)\n",
    "        print(\"PredictedData shape: \", predictedData.shape)\n",
    "        predicted = np.reshape(predictedData, predictedData.shape[0]*predictedData.shape[1])\n",
    "        print(\"predicted.shape: \", predicted.shape)\n",
    "        unScaledPredictedData = utility.inverseDataScaling(predicted, \n",
    "                ftMax[0], ftMin[0])\n",
    "        rmseScore, mapeScore = utility.getScores(actualData, predictedData, \n",
    "                                unscaledTestData, unScaledPredictedData)\n",
    "        print(\"***** Forecast done *****\")\n",
    "        print(\"Overall RMSE score: \", rmseScore)\n",
    "        print(rmseScore)\n",
    "\n",
    "        data = [bestModel, ftMin, ftMax]\n",
    "        with open('model/' + source + \"_ann.pkl\", 'wb') as f:\n",
    "            for d in data:\n",
    "                pickle.dump(d, f)\n",
    "\n",
    "        data = []\n",
    "        for i in range(len(unScaledPredictedData)):\n",
    "                row = []\n",
    "                row.append(str(formattedTestDates[i]))\n",
    "                row.append(str(unscaledTestData[i]))\n",
    "                row.append(str(unScaledPredictedData[i]))\n",
    "                data.append(row)\n",
    "        utility.writeOutFuelForecastFile(OUT_FILE_NAME, data, source)"
   ]
  },
  {
   "cell_type": "code",
   "execution_count": 212,
   "metadata": {},
   "outputs": [
    {
     "name": "stderr",
     "output_type": "stream",
     "text": [
      "/var/folders/fh/7sz134vx5jq6_78w16smcs3h0000gn/T/ipykernel_25272/2017388480.py:2: FutureWarning: The argument 'infer_datetime_format' is deprecated and will be removed in a future version. A strict version of it is now the default, see https://pandas.pydata.org/pdeps/0004-consistent-to-datetime-parsing.html. You can safely remove this argument.\n",
      "  dataset = pd.read_csv(inFileName, header=0, infer_datetime_format=True, parse_dates=['UTC Time at End of Hour'], index_col=['UTC Time at End of Hour'])\n"
     ]
    },
    {
     "name": "stdout",
     "output_type": "stream",
     "text": [
      "                         Net Generation (MW) from Coal\n",
      "UTC Time at End of Hour                               \n",
      "2021-01-01 06:00:00                            25367.0\n",
      "2021-01-01 07:00:00                            24662.0\n",
      "2021-01-01 08:00:00                            25365.0\n",
      "2021-01-01 09:00:00                            24811.0\n",
      "2021-01-01 10:00:00                            25041.0\n",
      "Index(['Net Generation (MW) from Coal'], dtype='object')\n",
      "\n",
      "Adding features related to date & time...\n",
      "18738 7536\n",
      "                         Net Generation (MW) from Coal  hour_sin  \\\n",
      "UTC Time at End of Hour                                            \n",
      "2021-01-01 06:00:00                            25367.0  1.000000   \n",
      "2021-01-01 07:00:00                            24662.0  0.965926   \n",
      "2021-01-01 08:00:00                            25365.0  0.866025   \n",
      "2021-01-01 09:00:00                            24811.0  0.707107   \n",
      "2021-01-01 10:00:00                            25041.0  0.500000   \n",
      "\n",
      "                             hour_cos  month_sin  month_cos  weekend  \n",
      "UTC Time at End of Hour                                               \n",
      "2021-01-01 06:00:00      6.123234e-17   0.008601   0.999963        0  \n",
      "2021-01-01 07:00:00     -2.588190e-01   0.009318   0.999957        0  \n",
      "2021-01-01 08:00:00     -5.000000e-01   0.010035   0.999950        0  \n",
      "2021-01-01 09:00:00     -7.071068e-01   0.010751   0.999942        0  \n",
      "2021-01-01 10:00:00     -8.660254e-01   0.011468   0.999934        0  \n",
      "Features related to date & time added\n",
      "No. of rows in dataset: 26274\n",
      "No. of rows in training set: 21138\n",
      "No. of rows in validation set: 720\n",
      "No. of rows in test set: 4416\n",
      "TrainData shape:  (21138, 6)\n",
      "ValData shape:  (720, 6)\n",
      "TestData shape:  (4416, 6)\n",
      "***** Dataset split done *****\n",
      "Features:  ['Net Generation (MW) from Coal' 'hour_sin' 'hour_cos' 'month_sin'\n",
      " 'month_cos' 'weekend']\n",
      "Scaling data...\n",
      "***** Data scaling done *****\n",
      "(21138, 6) (720, 6) (4416, 6)\n",
      "\n",
      "Manipulating training data...\n",
      "Data shape:  (21138, 6)\n",
      "Data shape:  (720, 6)\n",
      "***** Training data manipulation done *****\n",
      "X.shape, y.shape:  (21091, 24, 6) (21091, 24)\n",
      "\n",
      "Starting training)...\n"
     ]
    },
    {
     "name": "stderr",
     "output_type": "stream",
     "text": [
      "/Users/linusrandud/.pyenv/versions/3.10.14/envs/GhostPostCC/lib/python3.10/site-packages/keras/src/layers/core/dense.py:87: UserWarning: Do not pass an `input_shape`/`input_dim` argument to a layer. When using Sequential models, prefer using an `Input(shape)` object as the first layer in the model instead.\n",
      "  super().__init__(activity_regularizer=activity_regularizer, **kwargs)\n"
     ]
    },
    {
     "name": "stdout",
     "output_type": "stream",
     "text": [
      "\n",
      "Epoch 1: val_loss improved from inf to 0.00485, saving model to model/coal_ann.keras\n",
      "2110/2110 - 2s - 977us/step - loss: 0.0084 - mean_absolute_error: 0.0625 - val_loss: 0.0049 - val_mean_absolute_error: 0.0559\n",
      "Showing model summary...\n"
     ]
    },
    {
     "data": {
      "text/html": [
       "<pre style=\"white-space:pre;overflow-x:auto;line-height:normal;font-family:Menlo,'DejaVu Sans Mono',consolas,'Courier New',monospace\"><span style=\"font-weight: bold\">Model: \"sequential_51\"</span>\n",
       "</pre>\n"
      ],
      "text/plain": [
       "\u001b[1mModel: \"sequential_51\"\u001b[0m\n"
      ]
     },
     "metadata": {},
     "output_type": "display_data"
    },
    {
     "data": {
      "text/html": [
       "<pre style=\"white-space:pre;overflow-x:auto;line-height:normal;font-family:Menlo,'DejaVu Sans Mono',consolas,'Courier New',monospace\">┏━━━━━━━━━━━━━━━━━━━━━━━━━━━━━━━━━┳━━━━━━━━━━━━━━━━━━━━━━━━┳━━━━━━━━━━━━━━━┓\n",
       "┃<span style=\"font-weight: bold\"> Layer (type)                    </span>┃<span style=\"font-weight: bold\"> Output Shape           </span>┃<span style=\"font-weight: bold\">       Param # </span>┃\n",
       "┡━━━━━━━━━━━━━━━━━━━━━━━━━━━━━━━━━╇━━━━━━━━━━━━━━━━━━━━━━━━╇━━━━━━━━━━━━━━━┩\n",
       "│ flatten_51 (<span style=\"color: #0087ff; text-decoration-color: #0087ff\">Flatten</span>)            │ (<span style=\"color: #00d7ff; text-decoration-color: #00d7ff\">None</span>, <span style=\"color: #00af00; text-decoration-color: #00af00\">144</span>)            │             <span style=\"color: #00af00; text-decoration-color: #00af00\">0</span> │\n",
       "├─────────────────────────────────┼────────────────────────┼───────────────┤\n",
       "│ dense_153 (<span style=\"color: #0087ff; text-decoration-color: #0087ff\">Dense</span>)               │ (<span style=\"color: #00d7ff; text-decoration-color: #00d7ff\">None</span>, <span style=\"color: #00af00; text-decoration-color: #00af00\">20</span>)             │         <span style=\"color: #00af00; text-decoration-color: #00af00\">2,900</span> │\n",
       "├─────────────────────────────────┼────────────────────────┼───────────────┤\n",
       "│ dense_154 (<span style=\"color: #0087ff; text-decoration-color: #0087ff\">Dense</span>)               │ (<span style=\"color: #00d7ff; text-decoration-color: #00d7ff\">None</span>, <span style=\"color: #00af00; text-decoration-color: #00af00\">50</span>)             │         <span style=\"color: #00af00; text-decoration-color: #00af00\">1,050</span> │\n",
       "├─────────────────────────────────┼────────────────────────┼───────────────┤\n",
       "│ dense_155 (<span style=\"color: #0087ff; text-decoration-color: #0087ff\">Dense</span>)               │ (<span style=\"color: #00d7ff; text-decoration-color: #00d7ff\">None</span>, <span style=\"color: #00af00; text-decoration-color: #00af00\">24</span>)             │         <span style=\"color: #00af00; text-decoration-color: #00af00\">1,224</span> │\n",
       "└─────────────────────────────────┴────────────────────────┴───────────────┘\n",
       "</pre>\n"
      ],
      "text/plain": [
       "┏━━━━━━━━━━━━━━━━━━━━━━━━━━━━━━━━━┳━━━━━━━━━━━━━━━━━━━━━━━━┳━━━━━━━━━━━━━━━┓\n",
       "┃\u001b[1m \u001b[0m\u001b[1mLayer (type)                   \u001b[0m\u001b[1m \u001b[0m┃\u001b[1m \u001b[0m\u001b[1mOutput Shape          \u001b[0m\u001b[1m \u001b[0m┃\u001b[1m \u001b[0m\u001b[1m      Param #\u001b[0m\u001b[1m \u001b[0m┃\n",
       "┡━━━━━━━━━━━━━━━━━━━━━━━━━━━━━━━━━╇━━━━━━━━━━━━━━━━━━━━━━━━╇━━━━━━━━━━━━━━━┩\n",
       "│ flatten_51 (\u001b[38;5;33mFlatten\u001b[0m)            │ (\u001b[38;5;45mNone\u001b[0m, \u001b[38;5;34m144\u001b[0m)            │             \u001b[38;5;34m0\u001b[0m │\n",
       "├─────────────────────────────────┼────────────────────────┼───────────────┤\n",
       "│ dense_153 (\u001b[38;5;33mDense\u001b[0m)               │ (\u001b[38;5;45mNone\u001b[0m, \u001b[38;5;34m20\u001b[0m)             │         \u001b[38;5;34m2,900\u001b[0m │\n",
       "├─────────────────────────────────┼────────────────────────┼───────────────┤\n",
       "│ dense_154 (\u001b[38;5;33mDense\u001b[0m)               │ (\u001b[38;5;45mNone\u001b[0m, \u001b[38;5;34m50\u001b[0m)             │         \u001b[38;5;34m1,050\u001b[0m │\n",
       "├─────────────────────────────────┼────────────────────────┼───────────────┤\n",
       "│ dense_155 (\u001b[38;5;33mDense\u001b[0m)               │ (\u001b[38;5;45mNone\u001b[0m, \u001b[38;5;34m24\u001b[0m)             │         \u001b[38;5;34m1,224\u001b[0m │\n",
       "└─────────────────────────────────┴────────────────────────┴───────────────┘\n"
      ]
     },
     "metadata": {},
     "output_type": "display_data"
    },
    {
     "data": {
      "text/html": [
       "<pre style=\"white-space:pre;overflow-x:auto;line-height:normal;font-family:Menlo,'DejaVu Sans Mono',consolas,'Courier New',monospace\"><span style=\"font-weight: bold\"> Total params: </span><span style=\"color: #00af00; text-decoration-color: #00af00\">15,524</span> (60.64 KB)\n",
       "</pre>\n"
      ],
      "text/plain": [
       "\u001b[1m Total params: \u001b[0m\u001b[38;5;34m15,524\u001b[0m (60.64 KB)\n"
      ]
     },
     "metadata": {},
     "output_type": "display_data"
    },
    {
     "data": {
      "text/html": [
       "<pre style=\"white-space:pre;overflow-x:auto;line-height:normal;font-family:Menlo,'DejaVu Sans Mono',consolas,'Courier New',monospace\"><span style=\"font-weight: bold\"> Trainable params: </span><span style=\"color: #00af00; text-decoration-color: #00af00\">5,174</span> (20.21 KB)\n",
       "</pre>\n"
      ],
      "text/plain": [
       "\u001b[1m Trainable params: \u001b[0m\u001b[38;5;34m5,174\u001b[0m (20.21 KB)\n"
      ]
     },
     "metadata": {},
     "output_type": "display_data"
    },
    {
     "data": {
      "text/html": [
       "<pre style=\"white-space:pre;overflow-x:auto;line-height:normal;font-family:Menlo,'DejaVu Sans Mono',consolas,'Courier New',monospace\"><span style=\"font-weight: bold\"> Non-trainable params: </span><span style=\"color: #00af00; text-decoration-color: #00af00\">0</span> (0.00 B)\n",
       "</pre>\n"
      ],
      "text/plain": [
       "\u001b[1m Non-trainable params: \u001b[0m\u001b[38;5;34m0\u001b[0m (0.00 B)\n"
      ]
     },
     "metadata": {},
     "output_type": "display_data"
    },
    {
     "data": {
      "text/html": [
       "<pre style=\"white-space:pre;overflow-x:auto;line-height:normal;font-family:Menlo,'DejaVu Sans Mono',consolas,'Courier New',monospace\"><span style=\"font-weight: bold\"> Optimizer params: </span><span style=\"color: #00af00; text-decoration-color: #00af00\">10,350</span> (40.43 KB)\n",
       "</pre>\n"
      ],
      "text/plain": [
       "\u001b[1m Optimizer params: \u001b[0m\u001b[38;5;34m10,350\u001b[0m (40.43 KB)\n"
      ]
     },
     "metadata": {},
     "output_type": "display_data"
    },
    {
     "name": "stdout",
     "output_type": "stream",
     "text": [
      "***** Model summary shown *****\n",
      "dict_keys(['loss', 'mean_absolute_error', 'val_loss', 'val_mean_absolute_error'])\n",
      "***** Training done *****\n",
      "Testing...\n",
      "ActualData shape:  (184, 24)\n",
      "actual.shape:  (4416,)\n",
      "PredictedData shape:  (184, 24)\n",
      "predicted.shape:  (4416,)\n",
      "Actual data shape, Predicted data shape:  (184, 24) (184, 24)\n",
      "***** Forecast done *****\n",
      "Overall RMSE score:  0.071778\n",
      "0.071778\n",
      "Writing to  data/src_prod_forecast_coal.csv ...\n",
      "                         Net Generation (MW) from Natural Gas\n",
      "UTC Time at End of Hour                                      \n",
      "2021-01-01 06:00:00                                   15999.0\n",
      "2021-01-01 07:00:00                                   16063.0\n",
      "2021-01-01 08:00:00                                   16057.0\n",
      "2021-01-01 09:00:00                                   15870.0\n",
      "2021-01-01 10:00:00                                   15755.0\n",
      "Index(['Net Generation (MW) from Natural Gas'], dtype='object')\n",
      "\n",
      "Adding features related to date & time...\n"
     ]
    },
    {
     "name": "stderr",
     "output_type": "stream",
     "text": [
      "/var/folders/fh/7sz134vx5jq6_78w16smcs3h0000gn/T/ipykernel_25272/2017388480.py:2: FutureWarning: The argument 'infer_datetime_format' is deprecated and will be removed in a future version. A strict version of it is now the default, see https://pandas.pydata.org/pdeps/0004-consistent-to-datetime-parsing.html. You can safely remove this argument.\n",
      "  dataset = pd.read_csv(inFileName, header=0, infer_datetime_format=True, parse_dates=['UTC Time at End of Hour'], index_col=['UTC Time at End of Hour'])\n"
     ]
    },
    {
     "name": "stdout",
     "output_type": "stream",
     "text": [
      "18738 7536\n",
      "                         Net Generation (MW) from Natural Gas  hour_sin  \\\n",
      "UTC Time at End of Hour                                                   \n",
      "2021-01-01 06:00:00                                   15999.0  1.000000   \n",
      "2021-01-01 07:00:00                                   16063.0  0.965926   \n",
      "2021-01-01 08:00:00                                   16057.0  0.866025   \n",
      "2021-01-01 09:00:00                                   15870.0  0.707107   \n",
      "2021-01-01 10:00:00                                   15755.0  0.500000   \n",
      "\n",
      "                             hour_cos  month_sin  month_cos  weekend  \n",
      "UTC Time at End of Hour                                               \n",
      "2021-01-01 06:00:00      6.123234e-17   0.008601   0.999963        0  \n",
      "2021-01-01 07:00:00     -2.588190e-01   0.009318   0.999957        0  \n",
      "2021-01-01 08:00:00     -5.000000e-01   0.010035   0.999950        0  \n",
      "2021-01-01 09:00:00     -7.071068e-01   0.010751   0.999942        0  \n",
      "2021-01-01 10:00:00     -8.660254e-01   0.011468   0.999934        0  \n",
      "Features related to date & time added\n",
      "No. of rows in dataset: 26274\n",
      "No. of rows in training set: 21138\n",
      "No. of rows in validation set: 720\n",
      "No. of rows in test set: 4416\n",
      "TrainData shape:  (21138, 6)\n",
      "ValData shape:  (720, 6)\n",
      "TestData shape:  (4416, 6)\n",
      "***** Dataset split done *****\n",
      "Features:  ['Net Generation (MW) from Natural Gas' 'hour_sin' 'hour_cos' 'month_sin'\n",
      " 'month_cos' 'weekend']\n",
      "Scaling data...\n",
      "***** Data scaling done *****\n",
      "(21138, 6) (720, 6) (4416, 6)\n",
      "\n",
      "Manipulating training data...\n",
      "Data shape:  (21138, 6)\n",
      "Data shape:  (720, 6)\n",
      "***** Training data manipulation done *****\n",
      "X.shape, y.shape:  (21091, 24, 6) (21091, 24)\n",
      "\n",
      "Starting training)...\n"
     ]
    },
    {
     "name": "stderr",
     "output_type": "stream",
     "text": [
      "/Users/linusrandud/.pyenv/versions/3.10.14/envs/GhostPostCC/lib/python3.10/site-packages/keras/src/layers/core/dense.py:87: UserWarning: Do not pass an `input_shape`/`input_dim` argument to a layer. When using Sequential models, prefer using an `Input(shape)` object as the first layer in the model instead.\n",
      "  super().__init__(activity_regularizer=activity_regularizer, **kwargs)\n"
     ]
    },
    {
     "name": "stdout",
     "output_type": "stream",
     "text": [
      "\n",
      "Epoch 1: val_loss improved from inf to 0.00743, saving model to model/nat_gas_ann.keras\n",
      "2110/2110 - 3s - 1ms/step - loss: 0.0089 - mean_absolute_error: 0.0688 - val_loss: 0.0074 - val_mean_absolute_error: 0.0686\n",
      "Showing model summary...\n"
     ]
    },
    {
     "data": {
      "text/html": [
       "<pre style=\"white-space:pre;overflow-x:auto;line-height:normal;font-family:Menlo,'DejaVu Sans Mono',consolas,'Courier New',monospace\"><span style=\"font-weight: bold\">Model: \"sequential_52\"</span>\n",
       "</pre>\n"
      ],
      "text/plain": [
       "\u001b[1mModel: \"sequential_52\"\u001b[0m\n"
      ]
     },
     "metadata": {},
     "output_type": "display_data"
    },
    {
     "data": {
      "text/html": [
       "<pre style=\"white-space:pre;overflow-x:auto;line-height:normal;font-family:Menlo,'DejaVu Sans Mono',consolas,'Courier New',monospace\">┏━━━━━━━━━━━━━━━━━━━━━━━━━━━━━━━━━┳━━━━━━━━━━━━━━━━━━━━━━━━┳━━━━━━━━━━━━━━━┓\n",
       "┃<span style=\"font-weight: bold\"> Layer (type)                    </span>┃<span style=\"font-weight: bold\"> Output Shape           </span>┃<span style=\"font-weight: bold\">       Param # </span>┃\n",
       "┡━━━━━━━━━━━━━━━━━━━━━━━━━━━━━━━━━╇━━━━━━━━━━━━━━━━━━━━━━━━╇━━━━━━━━━━━━━━━┩\n",
       "│ flatten_52 (<span style=\"color: #0087ff; text-decoration-color: #0087ff\">Flatten</span>)            │ (<span style=\"color: #00d7ff; text-decoration-color: #00d7ff\">None</span>, <span style=\"color: #00af00; text-decoration-color: #00af00\">144</span>)            │             <span style=\"color: #00af00; text-decoration-color: #00af00\">0</span> │\n",
       "├─────────────────────────────────┼────────────────────────┼───────────────┤\n",
       "│ dense_156 (<span style=\"color: #0087ff; text-decoration-color: #0087ff\">Dense</span>)               │ (<span style=\"color: #00d7ff; text-decoration-color: #00d7ff\">None</span>, <span style=\"color: #00af00; text-decoration-color: #00af00\">20</span>)             │         <span style=\"color: #00af00; text-decoration-color: #00af00\">2,900</span> │\n",
       "├─────────────────────────────────┼────────────────────────┼───────────────┤\n",
       "│ dense_157 (<span style=\"color: #0087ff; text-decoration-color: #0087ff\">Dense</span>)               │ (<span style=\"color: #00d7ff; text-decoration-color: #00d7ff\">None</span>, <span style=\"color: #00af00; text-decoration-color: #00af00\">50</span>)             │         <span style=\"color: #00af00; text-decoration-color: #00af00\">1,050</span> │\n",
       "├─────────────────────────────────┼────────────────────────┼───────────────┤\n",
       "│ dense_158 (<span style=\"color: #0087ff; text-decoration-color: #0087ff\">Dense</span>)               │ (<span style=\"color: #00d7ff; text-decoration-color: #00d7ff\">None</span>, <span style=\"color: #00af00; text-decoration-color: #00af00\">24</span>)             │         <span style=\"color: #00af00; text-decoration-color: #00af00\">1,224</span> │\n",
       "└─────────────────────────────────┴────────────────────────┴───────────────┘\n",
       "</pre>\n"
      ],
      "text/plain": [
       "┏━━━━━━━━━━━━━━━━━━━━━━━━━━━━━━━━━┳━━━━━━━━━━━━━━━━━━━━━━━━┳━━━━━━━━━━━━━━━┓\n",
       "┃\u001b[1m \u001b[0m\u001b[1mLayer (type)                   \u001b[0m\u001b[1m \u001b[0m┃\u001b[1m \u001b[0m\u001b[1mOutput Shape          \u001b[0m\u001b[1m \u001b[0m┃\u001b[1m \u001b[0m\u001b[1m      Param #\u001b[0m\u001b[1m \u001b[0m┃\n",
       "┡━━━━━━━━━━━━━━━━━━━━━━━━━━━━━━━━━╇━━━━━━━━━━━━━━━━━━━━━━━━╇━━━━━━━━━━━━━━━┩\n",
       "│ flatten_52 (\u001b[38;5;33mFlatten\u001b[0m)            │ (\u001b[38;5;45mNone\u001b[0m, \u001b[38;5;34m144\u001b[0m)            │             \u001b[38;5;34m0\u001b[0m │\n",
       "├─────────────────────────────────┼────────────────────────┼───────────────┤\n",
       "│ dense_156 (\u001b[38;5;33mDense\u001b[0m)               │ (\u001b[38;5;45mNone\u001b[0m, \u001b[38;5;34m20\u001b[0m)             │         \u001b[38;5;34m2,900\u001b[0m │\n",
       "├─────────────────────────────────┼────────────────────────┼───────────────┤\n",
       "│ dense_157 (\u001b[38;5;33mDense\u001b[0m)               │ (\u001b[38;5;45mNone\u001b[0m, \u001b[38;5;34m50\u001b[0m)             │         \u001b[38;5;34m1,050\u001b[0m │\n",
       "├─────────────────────────────────┼────────────────────────┼───────────────┤\n",
       "│ dense_158 (\u001b[38;5;33mDense\u001b[0m)               │ (\u001b[38;5;45mNone\u001b[0m, \u001b[38;5;34m24\u001b[0m)             │         \u001b[38;5;34m1,224\u001b[0m │\n",
       "└─────────────────────────────────┴────────────────────────┴───────────────┘\n"
      ]
     },
     "metadata": {},
     "output_type": "display_data"
    },
    {
     "data": {
      "text/html": [
       "<pre style=\"white-space:pre;overflow-x:auto;line-height:normal;font-family:Menlo,'DejaVu Sans Mono',consolas,'Courier New',monospace\"><span style=\"font-weight: bold\"> Total params: </span><span style=\"color: #00af00; text-decoration-color: #00af00\">15,524</span> (60.64 KB)\n",
       "</pre>\n"
      ],
      "text/plain": [
       "\u001b[1m Total params: \u001b[0m\u001b[38;5;34m15,524\u001b[0m (60.64 KB)\n"
      ]
     },
     "metadata": {},
     "output_type": "display_data"
    },
    {
     "data": {
      "text/html": [
       "<pre style=\"white-space:pre;overflow-x:auto;line-height:normal;font-family:Menlo,'DejaVu Sans Mono',consolas,'Courier New',monospace\"><span style=\"font-weight: bold\"> Trainable params: </span><span style=\"color: #00af00; text-decoration-color: #00af00\">5,174</span> (20.21 KB)\n",
       "</pre>\n"
      ],
      "text/plain": [
       "\u001b[1m Trainable params: \u001b[0m\u001b[38;5;34m5,174\u001b[0m (20.21 KB)\n"
      ]
     },
     "metadata": {},
     "output_type": "display_data"
    },
    {
     "data": {
      "text/html": [
       "<pre style=\"white-space:pre;overflow-x:auto;line-height:normal;font-family:Menlo,'DejaVu Sans Mono',consolas,'Courier New',monospace\"><span style=\"font-weight: bold\"> Non-trainable params: </span><span style=\"color: #00af00; text-decoration-color: #00af00\">0</span> (0.00 B)\n",
       "</pre>\n"
      ],
      "text/plain": [
       "\u001b[1m Non-trainable params: \u001b[0m\u001b[38;5;34m0\u001b[0m (0.00 B)\n"
      ]
     },
     "metadata": {},
     "output_type": "display_data"
    },
    {
     "data": {
      "text/html": [
       "<pre style=\"white-space:pre;overflow-x:auto;line-height:normal;font-family:Menlo,'DejaVu Sans Mono',consolas,'Courier New',monospace\"><span style=\"font-weight: bold\"> Optimizer params: </span><span style=\"color: #00af00; text-decoration-color: #00af00\">10,350</span> (40.43 KB)\n",
       "</pre>\n"
      ],
      "text/plain": [
       "\u001b[1m Optimizer params: \u001b[0m\u001b[38;5;34m10,350\u001b[0m (40.43 KB)\n"
      ]
     },
     "metadata": {},
     "output_type": "display_data"
    },
    {
     "name": "stdout",
     "output_type": "stream",
     "text": [
      "***** Model summary shown *****\n",
      "dict_keys(['loss', 'mean_absolute_error', 'val_loss', 'val_mean_absolute_error'])\n",
      "***** Training done *****\n",
      "Testing...\n",
      "ActualData shape:  (184, 24)\n",
      "actual.shape:  (4416,)\n",
      "PredictedData shape:  (184, 24)\n",
      "predicted.shape:  (4416,)\n",
      "Actual data shape, Predicted data shape:  (184, 24) (184, 24)\n",
      "***** Forecast done *****\n",
      "Overall RMSE score:  0.091737\n",
      "0.091737\n",
      "Writing to  data/src_prod_forecast_nat_gas.csv ...\n",
      "                         Net Generation (MW) from Nuclear\n",
      "UTC Time at End of Hour                                  \n",
      "2021-01-01 06:00:00                               11534.0\n",
      "2021-01-01 07:00:00                               11544.0\n",
      "2021-01-01 08:00:00                               11555.0\n",
      "2021-01-01 09:00:00                               11560.0\n",
      "2021-01-01 10:00:00                               11565.0\n",
      "Index(['Net Generation (MW) from Nuclear'], dtype='object')\n",
      "\n",
      "Adding features related to date & time...\n"
     ]
    },
    {
     "name": "stderr",
     "output_type": "stream",
     "text": [
      "/var/folders/fh/7sz134vx5jq6_78w16smcs3h0000gn/T/ipykernel_25272/2017388480.py:2: FutureWarning: The argument 'infer_datetime_format' is deprecated and will be removed in a future version. A strict version of it is now the default, see https://pandas.pydata.org/pdeps/0004-consistent-to-datetime-parsing.html. You can safely remove this argument.\n",
      "  dataset = pd.read_csv(inFileName, header=0, infer_datetime_format=True, parse_dates=['UTC Time at End of Hour'], index_col=['UTC Time at End of Hour'])\n"
     ]
    },
    {
     "name": "stdout",
     "output_type": "stream",
     "text": [
      "18738 7536\n",
      "                         Net Generation (MW) from Nuclear  hour_sin  \\\n",
      "UTC Time at End of Hour                                               \n",
      "2021-01-01 06:00:00                               11534.0  1.000000   \n",
      "2021-01-01 07:00:00                               11544.0  0.965926   \n",
      "2021-01-01 08:00:00                               11555.0  0.866025   \n",
      "2021-01-01 09:00:00                               11560.0  0.707107   \n",
      "2021-01-01 10:00:00                               11565.0  0.500000   \n",
      "\n",
      "                             hour_cos  month_sin  month_cos  weekend  \n",
      "UTC Time at End of Hour                                               \n",
      "2021-01-01 06:00:00      6.123234e-17   0.008601   0.999963        0  \n",
      "2021-01-01 07:00:00     -2.588190e-01   0.009318   0.999957        0  \n",
      "2021-01-01 08:00:00     -5.000000e-01   0.010035   0.999950        0  \n",
      "2021-01-01 09:00:00     -7.071068e-01   0.010751   0.999942        0  \n",
      "2021-01-01 10:00:00     -8.660254e-01   0.011468   0.999934        0  \n",
      "Features related to date & time added\n",
      "No. of rows in dataset: 26274\n",
      "No. of rows in training set: 21138\n",
      "No. of rows in validation set: 720\n",
      "No. of rows in test set: 4416\n",
      "TrainData shape:  (21138, 6)\n",
      "ValData shape:  (720, 6)\n",
      "TestData shape:  (4416, 6)\n",
      "***** Dataset split done *****\n",
      "Features:  ['Net Generation (MW) from Nuclear' 'hour_sin' 'hour_cos' 'month_sin'\n",
      " 'month_cos' 'weekend']\n",
      "Scaling data...\n",
      "***** Data scaling done *****\n",
      "(21138, 6) (720, 6) (4416, 6)\n",
      "\n",
      "Manipulating training data...\n",
      "Data shape:  (21138, 6)\n",
      "Data shape:  (720, 6)\n",
      "***** Training data manipulation done *****\n",
      "X.shape, y.shape:  (21091, 24, 6) (21091, 24)\n",
      "\n",
      "Starting training)...\n"
     ]
    },
    {
     "name": "stderr",
     "output_type": "stream",
     "text": [
      "/Users/linusrandud/.pyenv/versions/3.10.14/envs/GhostPostCC/lib/python3.10/site-packages/keras/src/layers/core/dense.py:87: UserWarning: Do not pass an `input_shape`/`input_dim` argument to a layer. When using Sequential models, prefer using an `Input(shape)` object as the first layer in the model instead.\n",
      "  super().__init__(activity_regularizer=activity_regularizer, **kwargs)\n"
     ]
    },
    {
     "name": "stdout",
     "output_type": "stream",
     "text": [
      "\n",
      "Epoch 1: val_loss improved from inf to 0.00150, saving model to model/nuclear_ann.keras\n",
      "2110/2110 - 2s - 1ms/step - loss: 0.0076 - mean_absolute_error: 0.0426 - val_loss: 0.0015 - val_mean_absolute_error: 0.0273\n",
      "Showing model summary...\n"
     ]
    },
    {
     "data": {
      "text/html": [
       "<pre style=\"white-space:pre;overflow-x:auto;line-height:normal;font-family:Menlo,'DejaVu Sans Mono',consolas,'Courier New',monospace\"><span style=\"font-weight: bold\">Model: \"sequential_53\"</span>\n",
       "</pre>\n"
      ],
      "text/plain": [
       "\u001b[1mModel: \"sequential_53\"\u001b[0m\n"
      ]
     },
     "metadata": {},
     "output_type": "display_data"
    },
    {
     "data": {
      "text/html": [
       "<pre style=\"white-space:pre;overflow-x:auto;line-height:normal;font-family:Menlo,'DejaVu Sans Mono',consolas,'Courier New',monospace\">┏━━━━━━━━━━━━━━━━━━━━━━━━━━━━━━━━━┳━━━━━━━━━━━━━━━━━━━━━━━━┳━━━━━━━━━━━━━━━┓\n",
       "┃<span style=\"font-weight: bold\"> Layer (type)                    </span>┃<span style=\"font-weight: bold\"> Output Shape           </span>┃<span style=\"font-weight: bold\">       Param # </span>┃\n",
       "┡━━━━━━━━━━━━━━━━━━━━━━━━━━━━━━━━━╇━━━━━━━━━━━━━━━━━━━━━━━━╇━━━━━━━━━━━━━━━┩\n",
       "│ flatten_53 (<span style=\"color: #0087ff; text-decoration-color: #0087ff\">Flatten</span>)            │ (<span style=\"color: #00d7ff; text-decoration-color: #00d7ff\">None</span>, <span style=\"color: #00af00; text-decoration-color: #00af00\">144</span>)            │             <span style=\"color: #00af00; text-decoration-color: #00af00\">0</span> │\n",
       "├─────────────────────────────────┼────────────────────────┼───────────────┤\n",
       "│ dense_159 (<span style=\"color: #0087ff; text-decoration-color: #0087ff\">Dense</span>)               │ (<span style=\"color: #00d7ff; text-decoration-color: #00d7ff\">None</span>, <span style=\"color: #00af00; text-decoration-color: #00af00\">20</span>)             │         <span style=\"color: #00af00; text-decoration-color: #00af00\">2,900</span> │\n",
       "├─────────────────────────────────┼────────────────────────┼───────────────┤\n",
       "│ dense_160 (<span style=\"color: #0087ff; text-decoration-color: #0087ff\">Dense</span>)               │ (<span style=\"color: #00d7ff; text-decoration-color: #00d7ff\">None</span>, <span style=\"color: #00af00; text-decoration-color: #00af00\">50</span>)             │         <span style=\"color: #00af00; text-decoration-color: #00af00\">1,050</span> │\n",
       "├─────────────────────────────────┼────────────────────────┼───────────────┤\n",
       "│ dense_161 (<span style=\"color: #0087ff; text-decoration-color: #0087ff\">Dense</span>)               │ (<span style=\"color: #00d7ff; text-decoration-color: #00d7ff\">None</span>, <span style=\"color: #00af00; text-decoration-color: #00af00\">24</span>)             │         <span style=\"color: #00af00; text-decoration-color: #00af00\">1,224</span> │\n",
       "└─────────────────────────────────┴────────────────────────┴───────────────┘\n",
       "</pre>\n"
      ],
      "text/plain": [
       "┏━━━━━━━━━━━━━━━━━━━━━━━━━━━━━━━━━┳━━━━━━━━━━━━━━━━━━━━━━━━┳━━━━━━━━━━━━━━━┓\n",
       "┃\u001b[1m \u001b[0m\u001b[1mLayer (type)                   \u001b[0m\u001b[1m \u001b[0m┃\u001b[1m \u001b[0m\u001b[1mOutput Shape          \u001b[0m\u001b[1m \u001b[0m┃\u001b[1m \u001b[0m\u001b[1m      Param #\u001b[0m\u001b[1m \u001b[0m┃\n",
       "┡━━━━━━━━━━━━━━━━━━━━━━━━━━━━━━━━━╇━━━━━━━━━━━━━━━━━━━━━━━━╇━━━━━━━━━━━━━━━┩\n",
       "│ flatten_53 (\u001b[38;5;33mFlatten\u001b[0m)            │ (\u001b[38;5;45mNone\u001b[0m, \u001b[38;5;34m144\u001b[0m)            │             \u001b[38;5;34m0\u001b[0m │\n",
       "├─────────────────────────────────┼────────────────────────┼───────────────┤\n",
       "│ dense_159 (\u001b[38;5;33mDense\u001b[0m)               │ (\u001b[38;5;45mNone\u001b[0m, \u001b[38;5;34m20\u001b[0m)             │         \u001b[38;5;34m2,900\u001b[0m │\n",
       "├─────────────────────────────────┼────────────────────────┼───────────────┤\n",
       "│ dense_160 (\u001b[38;5;33mDense\u001b[0m)               │ (\u001b[38;5;45mNone\u001b[0m, \u001b[38;5;34m50\u001b[0m)             │         \u001b[38;5;34m1,050\u001b[0m │\n",
       "├─────────────────────────────────┼────────────────────────┼───────────────┤\n",
       "│ dense_161 (\u001b[38;5;33mDense\u001b[0m)               │ (\u001b[38;5;45mNone\u001b[0m, \u001b[38;5;34m24\u001b[0m)             │         \u001b[38;5;34m1,224\u001b[0m │\n",
       "└─────────────────────────────────┴────────────────────────┴───────────────┘\n"
      ]
     },
     "metadata": {},
     "output_type": "display_data"
    },
    {
     "data": {
      "text/html": [
       "<pre style=\"white-space:pre;overflow-x:auto;line-height:normal;font-family:Menlo,'DejaVu Sans Mono',consolas,'Courier New',monospace\"><span style=\"font-weight: bold\"> Total params: </span><span style=\"color: #00af00; text-decoration-color: #00af00\">15,524</span> (60.64 KB)\n",
       "</pre>\n"
      ],
      "text/plain": [
       "\u001b[1m Total params: \u001b[0m\u001b[38;5;34m15,524\u001b[0m (60.64 KB)\n"
      ]
     },
     "metadata": {},
     "output_type": "display_data"
    },
    {
     "data": {
      "text/html": [
       "<pre style=\"white-space:pre;overflow-x:auto;line-height:normal;font-family:Menlo,'DejaVu Sans Mono',consolas,'Courier New',monospace\"><span style=\"font-weight: bold\"> Trainable params: </span><span style=\"color: #00af00; text-decoration-color: #00af00\">5,174</span> (20.21 KB)\n",
       "</pre>\n"
      ],
      "text/plain": [
       "\u001b[1m Trainable params: \u001b[0m\u001b[38;5;34m5,174\u001b[0m (20.21 KB)\n"
      ]
     },
     "metadata": {},
     "output_type": "display_data"
    },
    {
     "data": {
      "text/html": [
       "<pre style=\"white-space:pre;overflow-x:auto;line-height:normal;font-family:Menlo,'DejaVu Sans Mono',consolas,'Courier New',monospace\"><span style=\"font-weight: bold\"> Non-trainable params: </span><span style=\"color: #00af00; text-decoration-color: #00af00\">0</span> (0.00 B)\n",
       "</pre>\n"
      ],
      "text/plain": [
       "\u001b[1m Non-trainable params: \u001b[0m\u001b[38;5;34m0\u001b[0m (0.00 B)\n"
      ]
     },
     "metadata": {},
     "output_type": "display_data"
    },
    {
     "data": {
      "text/html": [
       "<pre style=\"white-space:pre;overflow-x:auto;line-height:normal;font-family:Menlo,'DejaVu Sans Mono',consolas,'Courier New',monospace\"><span style=\"font-weight: bold\"> Optimizer params: </span><span style=\"color: #00af00; text-decoration-color: #00af00\">10,350</span> (40.43 KB)\n",
       "</pre>\n"
      ],
      "text/plain": [
       "\u001b[1m Optimizer params: \u001b[0m\u001b[38;5;34m10,350\u001b[0m (40.43 KB)\n"
      ]
     },
     "metadata": {},
     "output_type": "display_data"
    },
    {
     "name": "stdout",
     "output_type": "stream",
     "text": [
      "***** Model summary shown *****\n",
      "dict_keys(['loss', 'mean_absolute_error', 'val_loss', 'val_mean_absolute_error'])\n",
      "***** Training done *****\n",
      "Testing...\n",
      "ActualData shape:  (184, 24)\n",
      "actual.shape:  (4416,)\n",
      "PredictedData shape:  (184, 24)\n",
      "predicted.shape:  (4416,)\n",
      "Actual data shape, Predicted data shape:  (184, 24) (184, 24)\n",
      "***** Forecast done *****\n",
      "Overall RMSE score:  0.04594\n",
      "0.04594\n",
      "Writing to  data/src_prod_forecast_nuclear.csv ...\n",
      "                         Net Generation (MW) from Hydropower and Pumped Storage  \\\n",
      "UTC Time at End of Hour                                                           \n",
      "2021-01-01 06:00:00                                                  714.0        \n",
      "2021-01-01 07:00:00                                                  664.0        \n",
      "2021-01-01 08:00:00                                                  661.0        \n",
      "2021-01-01 09:00:00                                                  664.0        \n",
      "2021-01-01 10:00:00                                                  668.0        \n",
      "\n",
      "                         temp  dwpt   rhum  prcp   wdir  wspd    pres  \n",
      "UTC Time at End of Hour                                                \n",
      "2021-01-01 06:00:00      -6.0  -6.0  100.0   0.0  130.0  20.5  1025.3  \n",
      "2021-01-01 07:00:00      -6.0  -6.0  100.0   0.0  100.0   9.4  1025.2  \n",
      "2021-01-01 08:00:00      -6.0  -6.0  100.0   0.0  110.0  13.0  1025.0  \n",
      "2021-01-01 09:00:00      -6.0  -6.0  100.0   0.0   90.0  16.6  1024.5  \n",
      "2021-01-01 10:00:00      -6.0  -6.0  100.0   0.0   80.0  13.0  1024.1  \n",
      "Index(['Net Generation (MW) from Hydropower and Pumped Storage', 'temp',\n",
      "       'dwpt', 'rhum', 'prcp', 'wdir', 'wspd', 'pres'],\n",
      "      dtype='object')\n",
      "\n",
      "Adding features related to date & time...\n"
     ]
    },
    {
     "name": "stderr",
     "output_type": "stream",
     "text": [
      "/var/folders/fh/7sz134vx5jq6_78w16smcs3h0000gn/T/ipykernel_25272/2017388480.py:2: FutureWarning: The argument 'infer_datetime_format' is deprecated and will be removed in a future version. A strict version of it is now the default, see https://pandas.pydata.org/pdeps/0004-consistent-to-datetime-parsing.html. You can safely remove this argument.\n",
      "  dataset = pd.read_csv(inFileName, header=0, infer_datetime_format=True, parse_dates=['UTC Time at End of Hour'], index_col=['UTC Time at End of Hour'])\n"
     ]
    },
    {
     "name": "stdout",
     "output_type": "stream",
     "text": [
      "18738 7536\n",
      "                         Net Generation (MW) from Hydropower and Pumped Storage  \\\n",
      "UTC Time at End of Hour                                                           \n",
      "2021-01-01 06:00:00                                                  714.0        \n",
      "2021-01-01 07:00:00                                                  664.0        \n",
      "2021-01-01 08:00:00                                                  661.0        \n",
      "2021-01-01 09:00:00                                                  664.0        \n",
      "2021-01-01 10:00:00                                                  668.0        \n",
      "\n",
      "                         hour_sin      hour_cos  month_sin  month_cos  \\\n",
      "UTC Time at End of Hour                                                 \n",
      "2021-01-01 06:00:00      1.000000  6.123234e-17   0.008601   0.999963   \n",
      "2021-01-01 07:00:00      0.965926 -2.588190e-01   0.009318   0.999957   \n",
      "2021-01-01 08:00:00      0.866025 -5.000000e-01   0.010035   0.999950   \n",
      "2021-01-01 09:00:00      0.707107 -7.071068e-01   0.010751   0.999942   \n",
      "2021-01-01 10:00:00      0.500000 -8.660254e-01   0.011468   0.999934   \n",
      "\n",
      "                         weekend  temp  dwpt   rhum  prcp   wdir  wspd    pres  \n",
      "UTC Time at End of Hour                                                         \n",
      "2021-01-01 06:00:00            0  -6.0  -6.0  100.0   0.0  130.0  20.5  1025.3  \n",
      "2021-01-01 07:00:00            0  -6.0  -6.0  100.0   0.0  100.0   9.4  1025.2  \n",
      "2021-01-01 08:00:00            0  -6.0  -6.0  100.0   0.0  110.0  13.0  1025.0  \n",
      "2021-01-01 09:00:00            0  -6.0  -6.0  100.0   0.0   90.0  16.6  1024.5  \n",
      "2021-01-01 10:00:00            0  -6.0  -6.0  100.0   0.0   80.0  13.0  1024.1  \n",
      "Features related to date & time added\n",
      "No. of rows in dataset: 26274\n",
      "No. of rows in training set: 21138\n",
      "No. of rows in validation set: 720\n",
      "No. of rows in test set: 4416\n",
      "TrainData shape:  (21138, 13)\n",
      "ValData shape:  (720, 13)\n",
      "TestData shape:  (4416, 13)\n",
      "***** Dataset split done *****\n",
      "Features:  ['Net Generation (MW) from Hydropower and Pumped Storage' 'hour_sin'\n",
      " 'hour_cos' 'month_sin' 'month_cos' 'weekend' 'temp' 'dwpt' 'rhum' 'prcp'\n",
      " 'wdir' 'wspd' 'pres']\n",
      "Scaling data...\n",
      "***** Data scaling done *****\n",
      "(21138, 13) (720, 13) (4416, 13)\n",
      "\n",
      "Manipulating training data...\n",
      "Data shape:  (21138, 13)\n",
      "Data shape:  (720, 13)\n",
      "***** Training data manipulation done *****\n",
      "X.shape, y.shape:  (21091, 24, 13) (21091, 24)\n",
      "\n",
      "Starting training)...\n"
     ]
    },
    {
     "name": "stderr",
     "output_type": "stream",
     "text": [
      "/Users/linusrandud/.pyenv/versions/3.10.14/envs/GhostPostCC/lib/python3.10/site-packages/keras/src/layers/core/dense.py:87: UserWarning: Do not pass an `input_shape`/`input_dim` argument to a layer. When using Sequential models, prefer using an `Input(shape)` object as the first layer in the model instead.\n",
      "  super().__init__(activity_regularizer=activity_regularizer, **kwargs)\n"
     ]
    },
    {
     "name": "stdout",
     "output_type": "stream",
     "text": [
      "\n",
      "Epoch 1: val_loss improved from inf to 0.00810, saving model to model/hydro_ann.keras\n",
      "2110/2110 - 2s - 932us/step - loss: 0.0192 - mean_absolute_error: 0.0964 - val_loss: 0.0081 - val_mean_absolute_error: 0.0688\n",
      "Showing model summary...\n"
     ]
    },
    {
     "data": {
      "text/html": [
       "<pre style=\"white-space:pre;overflow-x:auto;line-height:normal;font-family:Menlo,'DejaVu Sans Mono',consolas,'Courier New',monospace\"><span style=\"font-weight: bold\">Model: \"sequential_54\"</span>\n",
       "</pre>\n"
      ],
      "text/plain": [
       "\u001b[1mModel: \"sequential_54\"\u001b[0m\n"
      ]
     },
     "metadata": {},
     "output_type": "display_data"
    },
    {
     "data": {
      "text/html": [
       "<pre style=\"white-space:pre;overflow-x:auto;line-height:normal;font-family:Menlo,'DejaVu Sans Mono',consolas,'Courier New',monospace\">┏━━━━━━━━━━━━━━━━━━━━━━━━━━━━━━━━━┳━━━━━━━━━━━━━━━━━━━━━━━━┳━━━━━━━━━━━━━━━┓\n",
       "┃<span style=\"font-weight: bold\"> Layer (type)                    </span>┃<span style=\"font-weight: bold\"> Output Shape           </span>┃<span style=\"font-weight: bold\">       Param # </span>┃\n",
       "┡━━━━━━━━━━━━━━━━━━━━━━━━━━━━━━━━━╇━━━━━━━━━━━━━━━━━━━━━━━━╇━━━━━━━━━━━━━━━┩\n",
       "│ flatten_54 (<span style=\"color: #0087ff; text-decoration-color: #0087ff\">Flatten</span>)            │ (<span style=\"color: #00d7ff; text-decoration-color: #00d7ff\">None</span>, <span style=\"color: #00af00; text-decoration-color: #00af00\">312</span>)            │             <span style=\"color: #00af00; text-decoration-color: #00af00\">0</span> │\n",
       "├─────────────────────────────────┼────────────────────────┼───────────────┤\n",
       "│ dense_162 (<span style=\"color: #0087ff; text-decoration-color: #0087ff\">Dense</span>)               │ (<span style=\"color: #00d7ff; text-decoration-color: #00d7ff\">None</span>, <span style=\"color: #00af00; text-decoration-color: #00af00\">20</span>)             │         <span style=\"color: #00af00; text-decoration-color: #00af00\">6,260</span> │\n",
       "├─────────────────────────────────┼────────────────────────┼───────────────┤\n",
       "│ dense_163 (<span style=\"color: #0087ff; text-decoration-color: #0087ff\">Dense</span>)               │ (<span style=\"color: #00d7ff; text-decoration-color: #00d7ff\">None</span>, <span style=\"color: #00af00; text-decoration-color: #00af00\">50</span>)             │         <span style=\"color: #00af00; text-decoration-color: #00af00\">1,050</span> │\n",
       "├─────────────────────────────────┼────────────────────────┼───────────────┤\n",
       "│ dense_164 (<span style=\"color: #0087ff; text-decoration-color: #0087ff\">Dense</span>)               │ (<span style=\"color: #00d7ff; text-decoration-color: #00d7ff\">None</span>, <span style=\"color: #00af00; text-decoration-color: #00af00\">24</span>)             │         <span style=\"color: #00af00; text-decoration-color: #00af00\">1,224</span> │\n",
       "└─────────────────────────────────┴────────────────────────┴───────────────┘\n",
       "</pre>\n"
      ],
      "text/plain": [
       "┏━━━━━━━━━━━━━━━━━━━━━━━━━━━━━━━━━┳━━━━━━━━━━━━━━━━━━━━━━━━┳━━━━━━━━━━━━━━━┓\n",
       "┃\u001b[1m \u001b[0m\u001b[1mLayer (type)                   \u001b[0m\u001b[1m \u001b[0m┃\u001b[1m \u001b[0m\u001b[1mOutput Shape          \u001b[0m\u001b[1m \u001b[0m┃\u001b[1m \u001b[0m\u001b[1m      Param #\u001b[0m\u001b[1m \u001b[0m┃\n",
       "┡━━━━━━━━━━━━━━━━━━━━━━━━━━━━━━━━━╇━━━━━━━━━━━━━━━━━━━━━━━━╇━━━━━━━━━━━━━━━┩\n",
       "│ flatten_54 (\u001b[38;5;33mFlatten\u001b[0m)            │ (\u001b[38;5;45mNone\u001b[0m, \u001b[38;5;34m312\u001b[0m)            │             \u001b[38;5;34m0\u001b[0m │\n",
       "├─────────────────────────────────┼────────────────────────┼───────────────┤\n",
       "│ dense_162 (\u001b[38;5;33mDense\u001b[0m)               │ (\u001b[38;5;45mNone\u001b[0m, \u001b[38;5;34m20\u001b[0m)             │         \u001b[38;5;34m6,260\u001b[0m │\n",
       "├─────────────────────────────────┼────────────────────────┼───────────────┤\n",
       "│ dense_163 (\u001b[38;5;33mDense\u001b[0m)               │ (\u001b[38;5;45mNone\u001b[0m, \u001b[38;5;34m50\u001b[0m)             │         \u001b[38;5;34m1,050\u001b[0m │\n",
       "├─────────────────────────────────┼────────────────────────┼───────────────┤\n",
       "│ dense_164 (\u001b[38;5;33mDense\u001b[0m)               │ (\u001b[38;5;45mNone\u001b[0m, \u001b[38;5;34m24\u001b[0m)             │         \u001b[38;5;34m1,224\u001b[0m │\n",
       "└─────────────────────────────────┴────────────────────────┴───────────────┘\n"
      ]
     },
     "metadata": {},
     "output_type": "display_data"
    },
    {
     "data": {
      "text/html": [
       "<pre style=\"white-space:pre;overflow-x:auto;line-height:normal;font-family:Menlo,'DejaVu Sans Mono',consolas,'Courier New',monospace\"><span style=\"font-weight: bold\"> Total params: </span><span style=\"color: #00af00; text-decoration-color: #00af00\">25,604</span> (100.02 KB)\n",
       "</pre>\n"
      ],
      "text/plain": [
       "\u001b[1m Total params: \u001b[0m\u001b[38;5;34m25,604\u001b[0m (100.02 KB)\n"
      ]
     },
     "metadata": {},
     "output_type": "display_data"
    },
    {
     "data": {
      "text/html": [
       "<pre style=\"white-space:pre;overflow-x:auto;line-height:normal;font-family:Menlo,'DejaVu Sans Mono',consolas,'Courier New',monospace\"><span style=\"font-weight: bold\"> Trainable params: </span><span style=\"color: #00af00; text-decoration-color: #00af00\">8,534</span> (33.34 KB)\n",
       "</pre>\n"
      ],
      "text/plain": [
       "\u001b[1m Trainable params: \u001b[0m\u001b[38;5;34m8,534\u001b[0m (33.34 KB)\n"
      ]
     },
     "metadata": {},
     "output_type": "display_data"
    },
    {
     "data": {
      "text/html": [
       "<pre style=\"white-space:pre;overflow-x:auto;line-height:normal;font-family:Menlo,'DejaVu Sans Mono',consolas,'Courier New',monospace\"><span style=\"font-weight: bold\"> Non-trainable params: </span><span style=\"color: #00af00; text-decoration-color: #00af00\">0</span> (0.00 B)\n",
       "</pre>\n"
      ],
      "text/plain": [
       "\u001b[1m Non-trainable params: \u001b[0m\u001b[38;5;34m0\u001b[0m (0.00 B)\n"
      ]
     },
     "metadata": {},
     "output_type": "display_data"
    },
    {
     "data": {
      "text/html": [
       "<pre style=\"white-space:pre;overflow-x:auto;line-height:normal;font-family:Menlo,'DejaVu Sans Mono',consolas,'Courier New',monospace\"><span style=\"font-weight: bold\"> Optimizer params: </span><span style=\"color: #00af00; text-decoration-color: #00af00\">17,070</span> (66.68 KB)\n",
       "</pre>\n"
      ],
      "text/plain": [
       "\u001b[1m Optimizer params: \u001b[0m\u001b[38;5;34m17,070\u001b[0m (66.68 KB)\n"
      ]
     },
     "metadata": {},
     "output_type": "display_data"
    },
    {
     "name": "stdout",
     "output_type": "stream",
     "text": [
      "***** Model summary shown *****\n",
      "dict_keys(['loss', 'mean_absolute_error', 'val_loss', 'val_mean_absolute_error'])\n",
      "***** Training done *****\n",
      "Testing...\n",
      "ActualData shape:  (184, 24)\n",
      "actual.shape:  (4416,)\n",
      "PredictedData shape:  (184, 24)\n",
      "predicted.shape:  (4416,)\n",
      "Actual data shape, Predicted data shape:  (184, 24) (184, 24)\n",
      "***** Forecast done *****\n",
      "Overall RMSE score:  0.120165\n",
      "0.120165\n",
      "Writing to  data/src_prod_forecast_hydro.csv ...\n",
      "                         Net Generation (MW) from Solar  temp  dwpt   rhum  \\\n",
      "UTC Time at End of Hour                                                      \n",
      "2021-01-01 06:00:00                                 0.0  -6.0  -6.0  100.0   \n",
      "2021-01-01 07:00:00                                 0.0  -6.0  -6.0  100.0   \n",
      "2021-01-01 08:00:00                                 0.0  -6.0  -6.0  100.0   \n",
      "2021-01-01 09:00:00                                 0.0  -6.0  -6.0  100.0   \n",
      "2021-01-01 10:00:00                                 0.0  -6.0  -6.0  100.0   \n",
      "\n",
      "                         prcp   wdir  wspd    pres  \n",
      "UTC Time at End of Hour                             \n",
      "2021-01-01 06:00:00       0.0  130.0  20.5  1025.3  \n",
      "2021-01-01 07:00:00       0.0  100.0   9.4  1025.2  \n",
      "2021-01-01 08:00:00       0.0  110.0  13.0  1025.0  \n",
      "2021-01-01 09:00:00       0.0   90.0  16.6  1024.5  \n",
      "2021-01-01 10:00:00       0.0   80.0  13.0  1024.1  \n",
      "Index(['Net Generation (MW) from Solar', 'temp', 'dwpt', 'rhum', 'prcp',\n",
      "       'wdir', 'wspd', 'pres'],\n",
      "      dtype='object')\n",
      "\n",
      "Adding features related to date & time...\n"
     ]
    },
    {
     "name": "stderr",
     "output_type": "stream",
     "text": [
      "/var/folders/fh/7sz134vx5jq6_78w16smcs3h0000gn/T/ipykernel_25272/2017388480.py:2: FutureWarning: The argument 'infer_datetime_format' is deprecated and will be removed in a future version. A strict version of it is now the default, see https://pandas.pydata.org/pdeps/0004-consistent-to-datetime-parsing.html. You can safely remove this argument.\n",
      "  dataset = pd.read_csv(inFileName, header=0, infer_datetime_format=True, parse_dates=['UTC Time at End of Hour'], index_col=['UTC Time at End of Hour'])\n"
     ]
    },
    {
     "name": "stdout",
     "output_type": "stream",
     "text": [
      "18738 7536\n",
      "                         Net Generation (MW) from Solar  hour_sin  \\\n",
      "UTC Time at End of Hour                                             \n",
      "2021-01-01 06:00:00                                 0.0  1.000000   \n",
      "2021-01-01 07:00:00                                 0.0  0.965926   \n",
      "2021-01-01 08:00:00                                 0.0  0.866025   \n",
      "2021-01-01 09:00:00                                 0.0  0.707107   \n",
      "2021-01-01 10:00:00                                 0.0  0.500000   \n",
      "\n",
      "                             hour_cos  month_sin  month_cos  weekend  temp  \\\n",
      "UTC Time at End of Hour                                                      \n",
      "2021-01-01 06:00:00      6.123234e-17   0.008601   0.999963        0  -6.0   \n",
      "2021-01-01 07:00:00     -2.588190e-01   0.009318   0.999957        0  -6.0   \n",
      "2021-01-01 08:00:00     -5.000000e-01   0.010035   0.999950        0  -6.0   \n",
      "2021-01-01 09:00:00     -7.071068e-01   0.010751   0.999942        0  -6.0   \n",
      "2021-01-01 10:00:00     -8.660254e-01   0.011468   0.999934        0  -6.0   \n",
      "\n",
      "                         dwpt   rhum  prcp   wdir  wspd    pres  \n",
      "UTC Time at End of Hour                                          \n",
      "2021-01-01 06:00:00      -6.0  100.0   0.0  130.0  20.5  1025.3  \n",
      "2021-01-01 07:00:00      -6.0  100.0   0.0  100.0   9.4  1025.2  \n",
      "2021-01-01 08:00:00      -6.0  100.0   0.0  110.0  13.0  1025.0  \n",
      "2021-01-01 09:00:00      -6.0  100.0   0.0   90.0  16.6  1024.5  \n",
      "2021-01-01 10:00:00      -6.0  100.0   0.0   80.0  13.0  1024.1  \n",
      "Features related to date & time added\n",
      "No. of rows in dataset: 26274\n",
      "No. of rows in training set: 21138\n",
      "No. of rows in validation set: 720\n",
      "No. of rows in test set: 4416\n",
      "TrainData shape:  (21138, 13)\n",
      "ValData shape:  (720, 13)\n",
      "TestData shape:  (4416, 13)\n",
      "***** Dataset split done *****\n",
      "Features:  ['Net Generation (MW) from Solar' 'hour_sin' 'hour_cos' 'month_sin'\n",
      " 'month_cos' 'weekend' 'temp' 'dwpt' 'rhum' 'prcp' 'wdir' 'wspd' 'pres']\n",
      "Scaling data...\n",
      "***** Data scaling done *****\n",
      "(21138, 13) (720, 13) (4416, 13)\n",
      "\n",
      "Manipulating training data...\n",
      "Data shape:  (21138, 13)\n",
      "Data shape:  (720, 13)\n",
      "***** Training data manipulation done *****\n",
      "X.shape, y.shape:  (21091, 24, 13) (21091, 24)\n",
      "\n",
      "Starting training)...\n"
     ]
    },
    {
     "name": "stderr",
     "output_type": "stream",
     "text": [
      "/Users/linusrandud/.pyenv/versions/3.10.14/envs/GhostPostCC/lib/python3.10/site-packages/keras/src/layers/core/dense.py:87: UserWarning: Do not pass an `input_shape`/`input_dim` argument to a layer. When using Sequential models, prefer using an `Input(shape)` object as the first layer in the model instead.\n",
      "  super().__init__(activity_regularizer=activity_regularizer, **kwargs)\n"
     ]
    },
    {
     "name": "stdout",
     "output_type": "stream",
     "text": [
      "\n",
      "Epoch 1: val_loss improved from inf to 0.01252, saving model to model/solar_ann.keras\n",
      "2110/2110 - 2s - 861us/step - loss: 0.0091 - mean_absolute_error: 0.0612 - val_loss: 0.0125 - val_mean_absolute_error: 0.0801\n",
      "Showing model summary...\n"
     ]
    },
    {
     "data": {
      "text/html": [
       "<pre style=\"white-space:pre;overflow-x:auto;line-height:normal;font-family:Menlo,'DejaVu Sans Mono',consolas,'Courier New',monospace\"><span style=\"font-weight: bold\">Model: \"sequential_55\"</span>\n",
       "</pre>\n"
      ],
      "text/plain": [
       "\u001b[1mModel: \"sequential_55\"\u001b[0m\n"
      ]
     },
     "metadata": {},
     "output_type": "display_data"
    },
    {
     "data": {
      "text/html": [
       "<pre style=\"white-space:pre;overflow-x:auto;line-height:normal;font-family:Menlo,'DejaVu Sans Mono',consolas,'Courier New',monospace\">┏━━━━━━━━━━━━━━━━━━━━━━━━━━━━━━━━━┳━━━━━━━━━━━━━━━━━━━━━━━━┳━━━━━━━━━━━━━━━┓\n",
       "┃<span style=\"font-weight: bold\"> Layer (type)                    </span>┃<span style=\"font-weight: bold\"> Output Shape           </span>┃<span style=\"font-weight: bold\">       Param # </span>┃\n",
       "┡━━━━━━━━━━━━━━━━━━━━━━━━━━━━━━━━━╇━━━━━━━━━━━━━━━━━━━━━━━━╇━━━━━━━━━━━━━━━┩\n",
       "│ flatten_55 (<span style=\"color: #0087ff; text-decoration-color: #0087ff\">Flatten</span>)            │ (<span style=\"color: #00d7ff; text-decoration-color: #00d7ff\">None</span>, <span style=\"color: #00af00; text-decoration-color: #00af00\">312</span>)            │             <span style=\"color: #00af00; text-decoration-color: #00af00\">0</span> │\n",
       "├─────────────────────────────────┼────────────────────────┼───────────────┤\n",
       "│ dense_165 (<span style=\"color: #0087ff; text-decoration-color: #0087ff\">Dense</span>)               │ (<span style=\"color: #00d7ff; text-decoration-color: #00d7ff\">None</span>, <span style=\"color: #00af00; text-decoration-color: #00af00\">20</span>)             │         <span style=\"color: #00af00; text-decoration-color: #00af00\">6,260</span> │\n",
       "├─────────────────────────────────┼────────────────────────┼───────────────┤\n",
       "│ dense_166 (<span style=\"color: #0087ff; text-decoration-color: #0087ff\">Dense</span>)               │ (<span style=\"color: #00d7ff; text-decoration-color: #00d7ff\">None</span>, <span style=\"color: #00af00; text-decoration-color: #00af00\">50</span>)             │         <span style=\"color: #00af00; text-decoration-color: #00af00\">1,050</span> │\n",
       "├─────────────────────────────────┼────────────────────────┼───────────────┤\n",
       "│ dense_167 (<span style=\"color: #0087ff; text-decoration-color: #0087ff\">Dense</span>)               │ (<span style=\"color: #00d7ff; text-decoration-color: #00d7ff\">None</span>, <span style=\"color: #00af00; text-decoration-color: #00af00\">24</span>)             │         <span style=\"color: #00af00; text-decoration-color: #00af00\">1,224</span> │\n",
       "└─────────────────────────────────┴────────────────────────┴───────────────┘\n",
       "</pre>\n"
      ],
      "text/plain": [
       "┏━━━━━━━━━━━━━━━━━━━━━━━━━━━━━━━━━┳━━━━━━━━━━━━━━━━━━━━━━━━┳━━━━━━━━━━━━━━━┓\n",
       "┃\u001b[1m \u001b[0m\u001b[1mLayer (type)                   \u001b[0m\u001b[1m \u001b[0m┃\u001b[1m \u001b[0m\u001b[1mOutput Shape          \u001b[0m\u001b[1m \u001b[0m┃\u001b[1m \u001b[0m\u001b[1m      Param #\u001b[0m\u001b[1m \u001b[0m┃\n",
       "┡━━━━━━━━━━━━━━━━━━━━━━━━━━━━━━━━━╇━━━━━━━━━━━━━━━━━━━━━━━━╇━━━━━━━━━━━━━━━┩\n",
       "│ flatten_55 (\u001b[38;5;33mFlatten\u001b[0m)            │ (\u001b[38;5;45mNone\u001b[0m, \u001b[38;5;34m312\u001b[0m)            │             \u001b[38;5;34m0\u001b[0m │\n",
       "├─────────────────────────────────┼────────────────────────┼───────────────┤\n",
       "│ dense_165 (\u001b[38;5;33mDense\u001b[0m)               │ (\u001b[38;5;45mNone\u001b[0m, \u001b[38;5;34m20\u001b[0m)             │         \u001b[38;5;34m6,260\u001b[0m │\n",
       "├─────────────────────────────────┼────────────────────────┼───────────────┤\n",
       "│ dense_166 (\u001b[38;5;33mDense\u001b[0m)               │ (\u001b[38;5;45mNone\u001b[0m, \u001b[38;5;34m50\u001b[0m)             │         \u001b[38;5;34m1,050\u001b[0m │\n",
       "├─────────────────────────────────┼────────────────────────┼───────────────┤\n",
       "│ dense_167 (\u001b[38;5;33mDense\u001b[0m)               │ (\u001b[38;5;45mNone\u001b[0m, \u001b[38;5;34m24\u001b[0m)             │         \u001b[38;5;34m1,224\u001b[0m │\n",
       "└─────────────────────────────────┴────────────────────────┴───────────────┘\n"
      ]
     },
     "metadata": {},
     "output_type": "display_data"
    },
    {
     "data": {
      "text/html": [
       "<pre style=\"white-space:pre;overflow-x:auto;line-height:normal;font-family:Menlo,'DejaVu Sans Mono',consolas,'Courier New',monospace\"><span style=\"font-weight: bold\"> Total params: </span><span style=\"color: #00af00; text-decoration-color: #00af00\">25,604</span> (100.02 KB)\n",
       "</pre>\n"
      ],
      "text/plain": [
       "\u001b[1m Total params: \u001b[0m\u001b[38;5;34m25,604\u001b[0m (100.02 KB)\n"
      ]
     },
     "metadata": {},
     "output_type": "display_data"
    },
    {
     "data": {
      "text/html": [
       "<pre style=\"white-space:pre;overflow-x:auto;line-height:normal;font-family:Menlo,'DejaVu Sans Mono',consolas,'Courier New',monospace\"><span style=\"font-weight: bold\"> Trainable params: </span><span style=\"color: #00af00; text-decoration-color: #00af00\">8,534</span> (33.34 KB)\n",
       "</pre>\n"
      ],
      "text/plain": [
       "\u001b[1m Trainable params: \u001b[0m\u001b[38;5;34m8,534\u001b[0m (33.34 KB)\n"
      ]
     },
     "metadata": {},
     "output_type": "display_data"
    },
    {
     "data": {
      "text/html": [
       "<pre style=\"white-space:pre;overflow-x:auto;line-height:normal;font-family:Menlo,'DejaVu Sans Mono',consolas,'Courier New',monospace\"><span style=\"font-weight: bold\"> Non-trainable params: </span><span style=\"color: #00af00; text-decoration-color: #00af00\">0</span> (0.00 B)\n",
       "</pre>\n"
      ],
      "text/plain": [
       "\u001b[1m Non-trainable params: \u001b[0m\u001b[38;5;34m0\u001b[0m (0.00 B)\n"
      ]
     },
     "metadata": {},
     "output_type": "display_data"
    },
    {
     "data": {
      "text/html": [
       "<pre style=\"white-space:pre;overflow-x:auto;line-height:normal;font-family:Menlo,'DejaVu Sans Mono',consolas,'Courier New',monospace\"><span style=\"font-weight: bold\"> Optimizer params: </span><span style=\"color: #00af00; text-decoration-color: #00af00\">17,070</span> (66.68 KB)\n",
       "</pre>\n"
      ],
      "text/plain": [
       "\u001b[1m Optimizer params: \u001b[0m\u001b[38;5;34m17,070\u001b[0m (66.68 KB)\n"
      ]
     },
     "metadata": {},
     "output_type": "display_data"
    },
    {
     "name": "stdout",
     "output_type": "stream",
     "text": [
      "***** Model summary shown *****\n",
      "dict_keys(['loss', 'mean_absolute_error', 'val_loss', 'val_mean_absolute_error'])\n",
      "***** Training done *****\n",
      "Testing...\n",
      "ActualData shape:  (184, 24)\n",
      "actual.shape:  (4416,)\n",
      "PredictedData shape:  (184, 24)\n",
      "predicted.shape:  (4416,)\n",
      "Actual data shape, Predicted data shape:  (184, 24) (184, 24)\n",
      "***** Forecast done *****\n",
      "Overall RMSE score:  0.134581\n",
      "0.134581\n",
      "Writing to  data/src_prod_forecast_solar.csv ...\n",
      "                         Net Generation (MW) from Wind  temp  dwpt   rhum  \\\n",
      "UTC Time at End of Hour                                                     \n",
      "2021-01-01 06:00:00                             9486.0  -6.0  -6.0  100.0   \n",
      "2021-01-01 07:00:00                             8780.0  -6.0  -6.0  100.0   \n",
      "2021-01-01 08:00:00                             6912.0  -6.0  -6.0  100.0   \n",
      "2021-01-01 09:00:00                             5967.0  -6.0  -6.0  100.0   \n",
      "2021-01-01 10:00:00                             5074.0  -6.0  -6.0  100.0   \n",
      "\n",
      "                         prcp   wdir  wspd    pres  \n",
      "UTC Time at End of Hour                             \n",
      "2021-01-01 06:00:00       0.0  130.0  20.5  1025.3  \n",
      "2021-01-01 07:00:00       0.0  100.0   9.4  1025.2  \n",
      "2021-01-01 08:00:00       0.0  110.0  13.0  1025.0  \n",
      "2021-01-01 09:00:00       0.0   90.0  16.6  1024.5  \n",
      "2021-01-01 10:00:00       0.0   80.0  13.0  1024.1  \n",
      "Index(['Net Generation (MW) from Wind', 'temp', 'dwpt', 'rhum', 'prcp', 'wdir',\n",
      "       'wspd', 'pres'],\n",
      "      dtype='object')\n",
      "\n",
      "Adding features related to date & time...\n"
     ]
    },
    {
     "name": "stderr",
     "output_type": "stream",
     "text": [
      "/var/folders/fh/7sz134vx5jq6_78w16smcs3h0000gn/T/ipykernel_25272/2017388480.py:2: FutureWarning: The argument 'infer_datetime_format' is deprecated and will be removed in a future version. A strict version of it is now the default, see https://pandas.pydata.org/pdeps/0004-consistent-to-datetime-parsing.html. You can safely remove this argument.\n",
      "  dataset = pd.read_csv(inFileName, header=0, infer_datetime_format=True, parse_dates=['UTC Time at End of Hour'], index_col=['UTC Time at End of Hour'])\n"
     ]
    },
    {
     "name": "stdout",
     "output_type": "stream",
     "text": [
      "18738 7536\n",
      "                         Net Generation (MW) from Wind  hour_sin  \\\n",
      "UTC Time at End of Hour                                            \n",
      "2021-01-01 06:00:00                             9486.0  1.000000   \n",
      "2021-01-01 07:00:00                             8780.0  0.965926   \n",
      "2021-01-01 08:00:00                             6912.0  0.866025   \n",
      "2021-01-01 09:00:00                             5967.0  0.707107   \n",
      "2021-01-01 10:00:00                             5074.0  0.500000   \n",
      "\n",
      "                             hour_cos  month_sin  month_cos  weekend  temp  \\\n",
      "UTC Time at End of Hour                                                      \n",
      "2021-01-01 06:00:00      6.123234e-17   0.008601   0.999963        0  -6.0   \n",
      "2021-01-01 07:00:00     -2.588190e-01   0.009318   0.999957        0  -6.0   \n",
      "2021-01-01 08:00:00     -5.000000e-01   0.010035   0.999950        0  -6.0   \n",
      "2021-01-01 09:00:00     -7.071068e-01   0.010751   0.999942        0  -6.0   \n",
      "2021-01-01 10:00:00     -8.660254e-01   0.011468   0.999934        0  -6.0   \n",
      "\n",
      "                         dwpt   rhum  prcp   wdir  wspd    pres  \n",
      "UTC Time at End of Hour                                          \n",
      "2021-01-01 06:00:00      -6.0  100.0   0.0  130.0  20.5  1025.3  \n",
      "2021-01-01 07:00:00      -6.0  100.0   0.0  100.0   9.4  1025.2  \n",
      "2021-01-01 08:00:00      -6.0  100.0   0.0  110.0  13.0  1025.0  \n",
      "2021-01-01 09:00:00      -6.0  100.0   0.0   90.0  16.6  1024.5  \n",
      "2021-01-01 10:00:00      -6.0  100.0   0.0   80.0  13.0  1024.1  \n",
      "Features related to date & time added\n",
      "No. of rows in dataset: 26274\n",
      "No. of rows in training set: 21138\n",
      "No. of rows in validation set: 720\n",
      "No. of rows in test set: 4416\n",
      "TrainData shape:  (21138, 13)\n",
      "ValData shape:  (720, 13)\n",
      "TestData shape:  (4416, 13)\n",
      "***** Dataset split done *****\n",
      "Features:  ['Net Generation (MW) from Wind' 'hour_sin' 'hour_cos' 'month_sin'\n",
      " 'month_cos' 'weekend' 'temp' 'dwpt' 'rhum' 'prcp' 'wdir' 'wspd' 'pres']\n",
      "Scaling data...\n",
      "***** Data scaling done *****\n",
      "(21138, 13) (720, 13) (4416, 13)\n",
      "\n",
      "Manipulating training data...\n",
      "Data shape:  (21138, 13)\n",
      "Data shape:  (720, 13)\n",
      "***** Training data manipulation done *****\n",
      "X.shape, y.shape:  (21091, 24, 13) (21091, 24)\n",
      "\n",
      "Starting training)...\n"
     ]
    },
    {
     "name": "stderr",
     "output_type": "stream",
     "text": [
      "/Users/linusrandud/.pyenv/versions/3.10.14/envs/GhostPostCC/lib/python3.10/site-packages/keras/src/layers/core/dense.py:87: UserWarning: Do not pass an `input_shape`/`input_dim` argument to a layer. When using Sequential models, prefer using an `Input(shape)` object as the first layer in the model instead.\n",
      "  super().__init__(activity_regularizer=activity_regularizer, **kwargs)\n"
     ]
    },
    {
     "name": "stdout",
     "output_type": "stream",
     "text": [
      "\n",
      "Epoch 1: val_loss improved from inf to 0.02952, saving model to model/wind_ann.keras\n",
      "2110/2110 - 2s - 1ms/step - loss: 0.0290 - mean_absolute_error: 0.1361 - val_loss: 0.0295 - val_mean_absolute_error: 0.1486\n",
      "Showing model summary...\n"
     ]
    },
    {
     "data": {
      "text/html": [
       "<pre style=\"white-space:pre;overflow-x:auto;line-height:normal;font-family:Menlo,'DejaVu Sans Mono',consolas,'Courier New',monospace\"><span style=\"font-weight: bold\">Model: \"sequential_56\"</span>\n",
       "</pre>\n"
      ],
      "text/plain": [
       "\u001b[1mModel: \"sequential_56\"\u001b[0m\n"
      ]
     },
     "metadata": {},
     "output_type": "display_data"
    },
    {
     "data": {
      "text/html": [
       "<pre style=\"white-space:pre;overflow-x:auto;line-height:normal;font-family:Menlo,'DejaVu Sans Mono',consolas,'Courier New',monospace\">┏━━━━━━━━━━━━━━━━━━━━━━━━━━━━━━━━━┳━━━━━━━━━━━━━━━━━━━━━━━━┳━━━━━━━━━━━━━━━┓\n",
       "┃<span style=\"font-weight: bold\"> Layer (type)                    </span>┃<span style=\"font-weight: bold\"> Output Shape           </span>┃<span style=\"font-weight: bold\">       Param # </span>┃\n",
       "┡━━━━━━━━━━━━━━━━━━━━━━━━━━━━━━━━━╇━━━━━━━━━━━━━━━━━━━━━━━━╇━━━━━━━━━━━━━━━┩\n",
       "│ flatten_56 (<span style=\"color: #0087ff; text-decoration-color: #0087ff\">Flatten</span>)            │ (<span style=\"color: #00d7ff; text-decoration-color: #00d7ff\">None</span>, <span style=\"color: #00af00; text-decoration-color: #00af00\">312</span>)            │             <span style=\"color: #00af00; text-decoration-color: #00af00\">0</span> │\n",
       "├─────────────────────────────────┼────────────────────────┼───────────────┤\n",
       "│ dense_168 (<span style=\"color: #0087ff; text-decoration-color: #0087ff\">Dense</span>)               │ (<span style=\"color: #00d7ff; text-decoration-color: #00d7ff\">None</span>, <span style=\"color: #00af00; text-decoration-color: #00af00\">20</span>)             │         <span style=\"color: #00af00; text-decoration-color: #00af00\">6,260</span> │\n",
       "├─────────────────────────────────┼────────────────────────┼───────────────┤\n",
       "│ dense_169 (<span style=\"color: #0087ff; text-decoration-color: #0087ff\">Dense</span>)               │ (<span style=\"color: #00d7ff; text-decoration-color: #00d7ff\">None</span>, <span style=\"color: #00af00; text-decoration-color: #00af00\">50</span>)             │         <span style=\"color: #00af00; text-decoration-color: #00af00\">1,050</span> │\n",
       "├─────────────────────────────────┼────────────────────────┼───────────────┤\n",
       "│ dense_170 (<span style=\"color: #0087ff; text-decoration-color: #0087ff\">Dense</span>)               │ (<span style=\"color: #00d7ff; text-decoration-color: #00d7ff\">None</span>, <span style=\"color: #00af00; text-decoration-color: #00af00\">24</span>)             │         <span style=\"color: #00af00; text-decoration-color: #00af00\">1,224</span> │\n",
       "└─────────────────────────────────┴────────────────────────┴───────────────┘\n",
       "</pre>\n"
      ],
      "text/plain": [
       "┏━━━━━━━━━━━━━━━━━━━━━━━━━━━━━━━━━┳━━━━━━━━━━━━━━━━━━━━━━━━┳━━━━━━━━━━━━━━━┓\n",
       "┃\u001b[1m \u001b[0m\u001b[1mLayer (type)                   \u001b[0m\u001b[1m \u001b[0m┃\u001b[1m \u001b[0m\u001b[1mOutput Shape          \u001b[0m\u001b[1m \u001b[0m┃\u001b[1m \u001b[0m\u001b[1m      Param #\u001b[0m\u001b[1m \u001b[0m┃\n",
       "┡━━━━━━━━━━━━━━━━━━━━━━━━━━━━━━━━━╇━━━━━━━━━━━━━━━━━━━━━━━━╇━━━━━━━━━━━━━━━┩\n",
       "│ flatten_56 (\u001b[38;5;33mFlatten\u001b[0m)            │ (\u001b[38;5;45mNone\u001b[0m, \u001b[38;5;34m312\u001b[0m)            │             \u001b[38;5;34m0\u001b[0m │\n",
       "├─────────────────────────────────┼────────────────────────┼───────────────┤\n",
       "│ dense_168 (\u001b[38;5;33mDense\u001b[0m)               │ (\u001b[38;5;45mNone\u001b[0m, \u001b[38;5;34m20\u001b[0m)             │         \u001b[38;5;34m6,260\u001b[0m │\n",
       "├─────────────────────────────────┼────────────────────────┼───────────────┤\n",
       "│ dense_169 (\u001b[38;5;33mDense\u001b[0m)               │ (\u001b[38;5;45mNone\u001b[0m, \u001b[38;5;34m50\u001b[0m)             │         \u001b[38;5;34m1,050\u001b[0m │\n",
       "├─────────────────────────────────┼────────────────────────┼───────────────┤\n",
       "│ dense_170 (\u001b[38;5;33mDense\u001b[0m)               │ (\u001b[38;5;45mNone\u001b[0m, \u001b[38;5;34m24\u001b[0m)             │         \u001b[38;5;34m1,224\u001b[0m │\n",
       "└─────────────────────────────────┴────────────────────────┴───────────────┘\n"
      ]
     },
     "metadata": {},
     "output_type": "display_data"
    },
    {
     "data": {
      "text/html": [
       "<pre style=\"white-space:pre;overflow-x:auto;line-height:normal;font-family:Menlo,'DejaVu Sans Mono',consolas,'Courier New',monospace\"><span style=\"font-weight: bold\"> Total params: </span><span style=\"color: #00af00; text-decoration-color: #00af00\">25,604</span> (100.02 KB)\n",
       "</pre>\n"
      ],
      "text/plain": [
       "\u001b[1m Total params: \u001b[0m\u001b[38;5;34m25,604\u001b[0m (100.02 KB)\n"
      ]
     },
     "metadata": {},
     "output_type": "display_data"
    },
    {
     "data": {
      "text/html": [
       "<pre style=\"white-space:pre;overflow-x:auto;line-height:normal;font-family:Menlo,'DejaVu Sans Mono',consolas,'Courier New',monospace\"><span style=\"font-weight: bold\"> Trainable params: </span><span style=\"color: #00af00; text-decoration-color: #00af00\">8,534</span> (33.34 KB)\n",
       "</pre>\n"
      ],
      "text/plain": [
       "\u001b[1m Trainable params: \u001b[0m\u001b[38;5;34m8,534\u001b[0m (33.34 KB)\n"
      ]
     },
     "metadata": {},
     "output_type": "display_data"
    },
    {
     "data": {
      "text/html": [
       "<pre style=\"white-space:pre;overflow-x:auto;line-height:normal;font-family:Menlo,'DejaVu Sans Mono',consolas,'Courier New',monospace\"><span style=\"font-weight: bold\"> Non-trainable params: </span><span style=\"color: #00af00; text-decoration-color: #00af00\">0</span> (0.00 B)\n",
       "</pre>\n"
      ],
      "text/plain": [
       "\u001b[1m Non-trainable params: \u001b[0m\u001b[38;5;34m0\u001b[0m (0.00 B)\n"
      ]
     },
     "metadata": {},
     "output_type": "display_data"
    },
    {
     "data": {
      "text/html": [
       "<pre style=\"white-space:pre;overflow-x:auto;line-height:normal;font-family:Menlo,'DejaVu Sans Mono',consolas,'Courier New',monospace\"><span style=\"font-weight: bold\"> Optimizer params: </span><span style=\"color: #00af00; text-decoration-color: #00af00\">17,070</span> (66.68 KB)\n",
       "</pre>\n"
      ],
      "text/plain": [
       "\u001b[1m Optimizer params: \u001b[0m\u001b[38;5;34m17,070\u001b[0m (66.68 KB)\n"
      ]
     },
     "metadata": {},
     "output_type": "display_data"
    },
    {
     "name": "stdout",
     "output_type": "stream",
     "text": [
      "***** Model summary shown *****\n",
      "dict_keys(['loss', 'mean_absolute_error', 'val_loss', 'val_mean_absolute_error'])\n",
      "***** Training done *****\n",
      "Testing...\n",
      "ActualData shape:  (184, 24)\n",
      "actual.shape:  (4416,)\n",
      "PredictedData shape:  (184, 24)\n",
      "predicted.shape:  (4416,)\n",
      "Actual data shape, Predicted data shape:  (184, 24) (184, 24)\n",
      "***** Forecast done *****\n",
      "Overall RMSE score:  0.170944\n",
      "0.170944\n",
      "Writing to  data/src_prod_forecast_wind.csv ...\n",
      "                         Net Generation (MW) from Other\n",
      "UTC Time at End of Hour                                \n",
      "2021-01-01 06:00:00                               840.0\n",
      "2021-01-01 07:00:00                               840.0\n",
      "2021-01-01 08:00:00                               839.0\n",
      "2021-01-01 09:00:00                               840.0\n",
      "2021-01-01 10:00:00                               844.0\n",
      "Index(['Net Generation (MW) from Other'], dtype='object')\n",
      "\n",
      "Adding features related to date & time...\n"
     ]
    },
    {
     "name": "stderr",
     "output_type": "stream",
     "text": [
      "/var/folders/fh/7sz134vx5jq6_78w16smcs3h0000gn/T/ipykernel_25272/2017388480.py:2: FutureWarning: The argument 'infer_datetime_format' is deprecated and will be removed in a future version. A strict version of it is now the default, see https://pandas.pydata.org/pdeps/0004-consistent-to-datetime-parsing.html. You can safely remove this argument.\n",
      "  dataset = pd.read_csv(inFileName, header=0, infer_datetime_format=True, parse_dates=['UTC Time at End of Hour'], index_col=['UTC Time at End of Hour'])\n"
     ]
    },
    {
     "name": "stdout",
     "output_type": "stream",
     "text": [
      "18738 7536\n",
      "                         Net Generation (MW) from Other  hour_sin  \\\n",
      "UTC Time at End of Hour                                             \n",
      "2021-01-01 06:00:00                               840.0  1.000000   \n",
      "2021-01-01 07:00:00                               840.0  0.965926   \n",
      "2021-01-01 08:00:00                               839.0  0.866025   \n",
      "2021-01-01 09:00:00                               840.0  0.707107   \n",
      "2021-01-01 10:00:00                               844.0  0.500000   \n",
      "\n",
      "                             hour_cos  month_sin  month_cos  weekend  \n",
      "UTC Time at End of Hour                                               \n",
      "2021-01-01 06:00:00      6.123234e-17   0.008601   0.999963        0  \n",
      "2021-01-01 07:00:00     -2.588190e-01   0.009318   0.999957        0  \n",
      "2021-01-01 08:00:00     -5.000000e-01   0.010035   0.999950        0  \n",
      "2021-01-01 09:00:00     -7.071068e-01   0.010751   0.999942        0  \n",
      "2021-01-01 10:00:00     -8.660254e-01   0.011468   0.999934        0  \n",
      "Features related to date & time added\n",
      "No. of rows in dataset: 26274\n",
      "No. of rows in training set: 21138\n",
      "No. of rows in validation set: 720\n",
      "No. of rows in test set: 4416\n",
      "TrainData shape:  (21138, 6)\n",
      "ValData shape:  (720, 6)\n",
      "TestData shape:  (4416, 6)\n",
      "***** Dataset split done *****\n",
      "Features:  ['Net Generation (MW) from Other' 'hour_sin' 'hour_cos' 'month_sin'\n",
      " 'month_cos' 'weekend']\n",
      "Scaling data...\n",
      "***** Data scaling done *****\n",
      "(21138, 6) (720, 6) (4416, 6)\n",
      "\n",
      "Manipulating training data...\n",
      "Data shape:  (21138, 6)\n",
      "Data shape:  (720, 6)\n",
      "***** Training data manipulation done *****\n",
      "X.shape, y.shape:  (21091, 24, 6) (21091, 24)\n",
      "\n",
      "Starting training)...\n"
     ]
    },
    {
     "name": "stderr",
     "output_type": "stream",
     "text": [
      "/Users/linusrandud/.pyenv/versions/3.10.14/envs/GhostPostCC/lib/python3.10/site-packages/keras/src/layers/core/dense.py:87: UserWarning: Do not pass an `input_shape`/`input_dim` argument to a layer. When using Sequential models, prefer using an `Input(shape)` object as the first layer in the model instead.\n",
      "  super().__init__(activity_regularizer=activity_regularizer, **kwargs)\n"
     ]
    },
    {
     "name": "stdout",
     "output_type": "stream",
     "text": [
      "\n",
      "Epoch 1: val_loss improved from inf to 0.00164, saving model to model/others_ann.keras\n",
      "2110/2110 - 2s - 1ms/step - loss: 0.0043 - mean_absolute_error: 0.0416 - val_loss: 0.0016 - val_mean_absolute_error: 0.0268\n",
      "Showing model summary...\n"
     ]
    },
    {
     "data": {
      "text/html": [
       "<pre style=\"white-space:pre;overflow-x:auto;line-height:normal;font-family:Menlo,'DejaVu Sans Mono',consolas,'Courier New',monospace\"><span style=\"font-weight: bold\">Model: \"sequential_57\"</span>\n",
       "</pre>\n"
      ],
      "text/plain": [
       "\u001b[1mModel: \"sequential_57\"\u001b[0m\n"
      ]
     },
     "metadata": {},
     "output_type": "display_data"
    },
    {
     "data": {
      "text/html": [
       "<pre style=\"white-space:pre;overflow-x:auto;line-height:normal;font-family:Menlo,'DejaVu Sans Mono',consolas,'Courier New',monospace\">┏━━━━━━━━━━━━━━━━━━━━━━━━━━━━━━━━━┳━━━━━━━━━━━━━━━━━━━━━━━━┳━━━━━━━━━━━━━━━┓\n",
       "┃<span style=\"font-weight: bold\"> Layer (type)                    </span>┃<span style=\"font-weight: bold\"> Output Shape           </span>┃<span style=\"font-weight: bold\">       Param # </span>┃\n",
       "┡━━━━━━━━━━━━━━━━━━━━━━━━━━━━━━━━━╇━━━━━━━━━━━━━━━━━━━━━━━━╇━━━━━━━━━━━━━━━┩\n",
       "│ flatten_57 (<span style=\"color: #0087ff; text-decoration-color: #0087ff\">Flatten</span>)            │ (<span style=\"color: #00d7ff; text-decoration-color: #00d7ff\">None</span>, <span style=\"color: #00af00; text-decoration-color: #00af00\">144</span>)            │             <span style=\"color: #00af00; text-decoration-color: #00af00\">0</span> │\n",
       "├─────────────────────────────────┼────────────────────────┼───────────────┤\n",
       "│ dense_171 (<span style=\"color: #0087ff; text-decoration-color: #0087ff\">Dense</span>)               │ (<span style=\"color: #00d7ff; text-decoration-color: #00d7ff\">None</span>, <span style=\"color: #00af00; text-decoration-color: #00af00\">20</span>)             │         <span style=\"color: #00af00; text-decoration-color: #00af00\">2,900</span> │\n",
       "├─────────────────────────────────┼────────────────────────┼───────────────┤\n",
       "│ dense_172 (<span style=\"color: #0087ff; text-decoration-color: #0087ff\">Dense</span>)               │ (<span style=\"color: #00d7ff; text-decoration-color: #00d7ff\">None</span>, <span style=\"color: #00af00; text-decoration-color: #00af00\">50</span>)             │         <span style=\"color: #00af00; text-decoration-color: #00af00\">1,050</span> │\n",
       "├─────────────────────────────────┼────────────────────────┼───────────────┤\n",
       "│ dense_173 (<span style=\"color: #0087ff; text-decoration-color: #0087ff\">Dense</span>)               │ (<span style=\"color: #00d7ff; text-decoration-color: #00d7ff\">None</span>, <span style=\"color: #00af00; text-decoration-color: #00af00\">24</span>)             │         <span style=\"color: #00af00; text-decoration-color: #00af00\">1,224</span> │\n",
       "└─────────────────────────────────┴────────────────────────┴───────────────┘\n",
       "</pre>\n"
      ],
      "text/plain": [
       "┏━━━━━━━━━━━━━━━━━━━━━━━━━━━━━━━━━┳━━━━━━━━━━━━━━━━━━━━━━━━┳━━━━━━━━━━━━━━━┓\n",
       "┃\u001b[1m \u001b[0m\u001b[1mLayer (type)                   \u001b[0m\u001b[1m \u001b[0m┃\u001b[1m \u001b[0m\u001b[1mOutput Shape          \u001b[0m\u001b[1m \u001b[0m┃\u001b[1m \u001b[0m\u001b[1m      Param #\u001b[0m\u001b[1m \u001b[0m┃\n",
       "┡━━━━━━━━━━━━━━━━━━━━━━━━━━━━━━━━━╇━━━━━━━━━━━━━━━━━━━━━━━━╇━━━━━━━━━━━━━━━┩\n",
       "│ flatten_57 (\u001b[38;5;33mFlatten\u001b[0m)            │ (\u001b[38;5;45mNone\u001b[0m, \u001b[38;5;34m144\u001b[0m)            │             \u001b[38;5;34m0\u001b[0m │\n",
       "├─────────────────────────────────┼────────────────────────┼───────────────┤\n",
       "│ dense_171 (\u001b[38;5;33mDense\u001b[0m)               │ (\u001b[38;5;45mNone\u001b[0m, \u001b[38;5;34m20\u001b[0m)             │         \u001b[38;5;34m2,900\u001b[0m │\n",
       "├─────────────────────────────────┼────────────────────────┼───────────────┤\n",
       "│ dense_172 (\u001b[38;5;33mDense\u001b[0m)               │ (\u001b[38;5;45mNone\u001b[0m, \u001b[38;5;34m50\u001b[0m)             │         \u001b[38;5;34m1,050\u001b[0m │\n",
       "├─────────────────────────────────┼────────────────────────┼───────────────┤\n",
       "│ dense_173 (\u001b[38;5;33mDense\u001b[0m)               │ (\u001b[38;5;45mNone\u001b[0m, \u001b[38;5;34m24\u001b[0m)             │         \u001b[38;5;34m1,224\u001b[0m │\n",
       "└─────────────────────────────────┴────────────────────────┴───────────────┘\n"
      ]
     },
     "metadata": {},
     "output_type": "display_data"
    },
    {
     "data": {
      "text/html": [
       "<pre style=\"white-space:pre;overflow-x:auto;line-height:normal;font-family:Menlo,'DejaVu Sans Mono',consolas,'Courier New',monospace\"><span style=\"font-weight: bold\"> Total params: </span><span style=\"color: #00af00; text-decoration-color: #00af00\">15,524</span> (60.64 KB)\n",
       "</pre>\n"
      ],
      "text/plain": [
       "\u001b[1m Total params: \u001b[0m\u001b[38;5;34m15,524\u001b[0m (60.64 KB)\n"
      ]
     },
     "metadata": {},
     "output_type": "display_data"
    },
    {
     "data": {
      "text/html": [
       "<pre style=\"white-space:pre;overflow-x:auto;line-height:normal;font-family:Menlo,'DejaVu Sans Mono',consolas,'Courier New',monospace\"><span style=\"font-weight: bold\"> Trainable params: </span><span style=\"color: #00af00; text-decoration-color: #00af00\">5,174</span> (20.21 KB)\n",
       "</pre>\n"
      ],
      "text/plain": [
       "\u001b[1m Trainable params: \u001b[0m\u001b[38;5;34m5,174\u001b[0m (20.21 KB)\n"
      ]
     },
     "metadata": {},
     "output_type": "display_data"
    },
    {
     "data": {
      "text/html": [
       "<pre style=\"white-space:pre;overflow-x:auto;line-height:normal;font-family:Menlo,'DejaVu Sans Mono',consolas,'Courier New',monospace\"><span style=\"font-weight: bold\"> Non-trainable params: </span><span style=\"color: #00af00; text-decoration-color: #00af00\">0</span> (0.00 B)\n",
       "</pre>\n"
      ],
      "text/plain": [
       "\u001b[1m Non-trainable params: \u001b[0m\u001b[38;5;34m0\u001b[0m (0.00 B)\n"
      ]
     },
     "metadata": {},
     "output_type": "display_data"
    },
    {
     "data": {
      "text/html": [
       "<pre style=\"white-space:pre;overflow-x:auto;line-height:normal;font-family:Menlo,'DejaVu Sans Mono',consolas,'Courier New',monospace\"><span style=\"font-weight: bold\"> Optimizer params: </span><span style=\"color: #00af00; text-decoration-color: #00af00\">10,350</span> (40.43 KB)\n",
       "</pre>\n"
      ],
      "text/plain": [
       "\u001b[1m Optimizer params: \u001b[0m\u001b[38;5;34m10,350\u001b[0m (40.43 KB)\n"
      ]
     },
     "metadata": {},
     "output_type": "display_data"
    },
    {
     "name": "stdout",
     "output_type": "stream",
     "text": [
      "***** Model summary shown *****\n",
      "dict_keys(['loss', 'mean_absolute_error', 'val_loss', 'val_mean_absolute_error'])\n",
      "***** Training done *****\n",
      "Testing...\n",
      "ActualData shape:  (184, 24)\n",
      "actual.shape:  (4416,)\n",
      "PredictedData shape:  (184, 24)\n",
      "predicted.shape:  (4416,)\n",
      "Actual data shape, Predicted data shape:  (184, 24) (184, 24)\n",
      "***** Forecast done *****\n",
      "Overall RMSE score:  0.035236\n",
      "0.035236\n",
      "Writing to  data/src_prod_forecast_others.csv ...\n"
     ]
    }
   ],
   "source": [
    "fuel_sources = ['coal', 'nat_gas', 'nuclear', 'hydro', 'solar', 'wind', 'others']\n",
    "forecast_all_fuel_sources(fuel_sources)"
   ]
  },
  {
   "cell_type": "code",
   "execution_count": null,
   "metadata": {},
   "outputs": [],
   "source": []
  },
  {
   "cell_type": "markdown",
   "metadata": {},
   "source": [
    "### inference"
   ]
  },
  {
   "cell_type": "code",
   "execution_count": 213,
   "metadata": {},
   "outputs": [],
   "source": [
    "def scale_dataset_trained(valData, testData, ftMin, ftMax):\n",
    "    # Scaling columns to range (0, 1)\n",
    "    row, col = valData.shape[0], valData.shape[1]\n",
    "    for i in range(col):\n",
    "        if((ftMax[i] - ftMin[i]) == 0):\n",
    "            continue\n",
    "        valData[:, i] = (valData[:, i] - ftMin[i]) / (ftMax[i] - ftMin[i])\n",
    "        testData[:, i] = (testData[:, i] - ftMin[i]) / (ftMax[i] - ftMin[i])\n",
    "\n",
    "    return valData, testData\n",
    "\n",
    "def get_day_ahead_forecasts(model_filepath, history, train_window_hours, num_features, dep_var_column):\n",
    "    global MODEL_SLIDING_WINDOW_LEN\n",
    "    global PREDICTION_WINDOW_HOURS\n",
    "    \n",
    "    # Load the trained ANN model\n",
    "    model = load_model(model_filepath)\n",
    "\n",
    "    # walk-forward validation over each day\n",
    "    print(\"Generating day-ahead forecasts...\")\n",
    "    predictions = []\n",
    "    for i in range(len(history) // 24):\n",
    "        day_ahead_predictions = []\n",
    "        temp_history = history.copy()\n",
    "        current_day_hours = i * MODEL_SLIDING_WINDOW_LEN\n",
    "        for j in range(0, PREDICTION_WINDOW_HOURS, 24):\n",
    "            # Get forecasts for the next 24 hours\n",
    "            yhat_sequence, new_training_data = get_forecasts(model, temp_history, train_window_hours, num_features)\n",
    "            day_ahead_predictions.extend(yhat_sequence)\n",
    "            # Update history for predicting the next day\n",
    "            latest_history = history[current_day_hours + j : current_day_hours + j + 24].copy()\n",
    "            for k in range(24):\n",
    "                latest_history[k][dep_var_column] = yhat_sequence[k]\n",
    "            temp_history = np.concatenate([temp_history, latest_history], axis=0)\n",
    "\n",
    "        # Update history for predicting the next day\n",
    "        history = np.concatenate([history, history[current_day_hours : current_day_hours + MODEL_SLIDING_WINDOW_LEN]], axis=0)\n",
    "        predictions.append(day_ahead_predictions)\n",
    "\n",
    "    # Convert predictions to numpy array\n",
    "    predicted_data = np.array(predictions, dtype=np.float64)\n",
    "    return predicted_data\n",
    "\n",
    "\n",
    "def get_forecasts(model, history, train_window_hours, num_features):\n",
    "    # Flatten data\n",
    "    data = np.array(history, dtype=np.float64)\n",
    "    # Retrieve last observations for input data\n",
    "    input_x = data[-train_window_hours:]\n",
    "    # Reshape into [1, n_input, num_features]\n",
    "    input_x = input_x.reshape((1, len(input_x), num_features))\n",
    "    # Make predictions\n",
    "    yhat = model.predict(input_x, verbose=0)\n",
    "    # Extract the vector forecast\n",
    "    yhat = yhat[0]\n",
    "    return yhat, input_x\n",
    "\n",
    "def inference_test(fuel_sources, inference_timestamp):\n",
    "    for source in fuel_sources:\n",
    "        IN_FILE_NAME = \"data/MW_electricity_cleaned.csv\"\n",
    "        IN_MODEL_NAME = 'model/' + source + \"_ann.keras\"\n",
    "\n",
    "        NUM_FEATURES_DICT = {\"coal\": 6, \"nat_gas\": 6, \"nuclear\": 6, \"oil\": 6, \"hydro\": 13, \"solar\": 13,\n",
    "                            \"wind\": 13, \"others\": 6}\n",
    "\n",
    "        NUM_VAL_DAYS = 30\n",
    "        NUM_TEST_DAYS = 184\n",
    "        TRAINING_WINDOW_HOURS = 24\n",
    "        PREDICTION_WINDOW_HOURS = 24\n",
    "        MODEL_SLIDING_WINDOW_LEN = 24\n",
    "\n",
    "        SOURCE_COL = 0\n",
    "        NUM_FEATURES = NUM_FEATURES_DICT[source]\n",
    "\n",
    "        print(\"initializing dataset...\")\n",
    "        \n",
    "        dataset, dateTime = initDataset(IN_FILE_NAME, SOURCE_COL)\n",
    "        nearest_lower_timestamp = max(filter(lambda x: x <= np.datetime64(inference_timestamp), dateTime))\n",
    "\n",
    "        # Get data up to last_date and last 24 hours of data\n",
    "        last_past_date = pd.to_datetime(nearest_lower_timestamp).strftime(\"%Y-%m-%d %H:%M:%S\")\n",
    "        past = dataset.loc[dataset.index <= last_past_date].tail(24)\n",
    "\n",
    "        # Get data minimum last_date, max last_date + 24 hours of data\n",
    "        last_future_date = (pd.to_datetime(nearest_lower_timestamp) + pd.Timedelta(hours=24)).strftime(\"%Y-%m-%d %H:%M:%S\")\n",
    "        future = dataset.loc[dataset.index <= last_future_date].tail(24)\n",
    "\n",
    "        # trainData, valData, testData, fullTrainData = utility.splitDataset(dataset.values, NUM_TEST_DAYS, NUM_VAL_DAYS)\n",
    "\n",
    "        # trainDates = dateTime[: -(NUM_TEST_DAYS*24)]\n",
    "        # fullTrainDates = np.copy(trainDates)\n",
    "        # trainDates, validationDates = trainDates[: -(NUM_VAL_DAYS*24)], trainDates[-(NUM_VAL_DAYS*24):]\n",
    "        # testDates = dateTime[-(NUM_TEST_DAYS*24):]\n",
    "\n",
    "        trainDates = dateTime[: -(NUM_TEST_DAYS*24)]\n",
    "        fullTrainDates = np.copy(trainDates)\n",
    "        trainDates, validationDates = trainDates[: -(NUM_VAL_DAYS*24)], trainDates[-(NUM_VAL_DAYS*24):]\n",
    "        testDates = future.index\n",
    "\n",
    "        past = past.iloc[:, SOURCE_COL: SOURCE_COL+NUM_FEATURES].values\n",
    "        future = future.iloc[:, SOURCE_COL: SOURCE_COL+NUM_FEATURES].values\n",
    "\n",
    "        print(\"past shape: \", past.shape) # (days x hour) x features\n",
    "        print(\"future shape: \", future.shape) # (days x hour) x features\n",
    "\n",
    "        for i in range(past.shape[0]):\n",
    "            for j in range(past.shape[1]):\n",
    "                if(np.isnan(past[i, j])):\n",
    "                    past[i, j] = past[i-1, j]\n",
    "\n",
    "        for i in range(future.shape[0]):\n",
    "            for j in range(future.shape[1]):\n",
    "                if(np.isnan(future[i, j])):\n",
    "                    future[i, j] = future[i-1, j]\n",
    "\n",
    "        featureList = dataset.columns.values[SOURCE_COL:SOURCE_COL+NUM_FEATURES]\n",
    "        print(\"Features: \", featureList)\n",
    "\n",
    "        data = []\n",
    "        with open(f'../GhostPostCC/model/{source}_ann.pkl', 'rb') as f:\n",
    "            while True:\n",
    "                try:\n",
    "                    data.append(pickle.load(f))\n",
    "                except EOFError:\n",
    "                    break\n",
    "        \n",
    "        model = data[0]\n",
    "        ftMin = data[1]\n",
    "        ftMax = data[2]\n",
    "\n",
    "        print(\"Scaling data...\")\n",
    "        past, future = scale_dataset_trained(past, future, ftMin, ftMax)\n",
    "        print(\"***** Data scaling done *****\")\n",
    "        print(past.shape, future.shape)\n",
    "\n",
    "        history = past.tolist()\n",
    "        predictedData = get_day_ahead_forecasts(IN_MODEL_NAME, history, TRAINING_WINDOW_HOURS, NUM_FEATURES, 0)\n",
    "        actualData = manipulateTestDataShape(future[:, 0], MODEL_SLIDING_WINDOW_LEN, PREDICTION_WINDOW_HOURS, False)\n",
    "        \n",
    "        formattedTestDates = manipulateTestDataShape(testDates, MODEL_SLIDING_WINDOW_LEN, PREDICTION_WINDOW_HOURS, True)\n",
    "        formattedTestDates = np.reshape(formattedTestDates, formattedTestDates.shape[0]*formattedTestDates.shape[1])\n",
    "        actualData = actualData.astype(np.float64)\n",
    "\n",
    "        print(\"ActualData shape: \", actualData.shape)\n",
    "        actual = np.reshape(actualData, actualData.shape[0]*actualData.shape[1])\n",
    "        print(\"actual.shape: \", actual.shape)\n",
    "        unscaledTestData = utility.inverseDataScaling(actual, ftMax[0], ftMin[0])\n",
    "        predictedData = predictedData.astype(np.float64)\n",
    "        print(\"PredictedData shape: \", predictedData.shape)\n",
    "        predicted = np.reshape(predictedData, predictedData.shape[0]*predictedData.shape[1])\n",
    "        print(\"predicted.shape: \", predicted.shape)\n",
    "        unScaledPredictedData = utility.inverseDataScaling(predicted, ftMax[0], ftMin[0])\n",
    "        rmseScore, mapeScore = utility.getScores(actualData, predictedData, unscaledTestData, unScaledPredictedData)\n",
    "        print(\"***** Forecast done *****\")\n",
    "        print(\"Overall RMSE score: \", rmseScore)\n",
    "        print(rmseScore)\n",
    "\n",
    "        data = []\n",
    "        for i in range(len(unScaledPredictedData)):\n",
    "                row = []\n",
    "                row.append(str(formattedTestDates[i]))\n",
    "                row.append(str(unscaledTestData[i]))\n",
    "                row.append(str(unScaledPredictedData[i]))\n",
    "                data.append(row)\n",
    "    return data\n",
    "\n",
    "def inference(fuel_sources, inference_timestamp):\n",
    "    for source in fuel_sources:\n",
    "        IN_FILE_NAME = \"data/MW_electricity_cleaned.csv\"\n",
    "        IN_MODEL_NAME = 'model/' + source + \"_ann.keras\"\n",
    "\n",
    "        NUM_FEATURES_DICT = {\"coal\": 6, \"nat_gas\": 6, \"nuclear\": 6, \"oil\": 6, \"hydro\": 6, \"solar\": 6,\n",
    "                            \"wind\": 6, \"others\": 6}\n",
    "\n",
    "        NUM_VAL_DAYS = 30\n",
    "        NUM_TEST_DAYS = 184\n",
    "        TRAINING_WINDOW_HOURS = 24\n",
    "        PREDICTION_WINDOW_HOURS = 24\n",
    "        MODEL_SLIDING_WINDOW_LEN = 24\n",
    "\n",
    "        COAL = 1\n",
    "        NAT_GAS = 2\n",
    "        NUCLEAR = 3\n",
    "        OIL = 4\n",
    "        HYDRO = 5\n",
    "        SOLAR = 6\n",
    "        WIND = 7\n",
    "        OTHERS = 8\n",
    "\n",
    "        FUEL = {COAL: \"coal\", NAT_GAS: \"nat_gas\", NUCLEAR: \"nuclear\", OIL: \"oil\", HYDRO: \"hydro\", SOLAR: \"solar\", WIND: \"wind\", OTHERS: \"others\"}\n",
    "        SOURCE_TO_SOURCE_COL_MAP = {y: x for x, y in FUEL.items()}\n",
    "\n",
    "        SOURCE_COL = SOURCE_TO_SOURCE_COL_MAP[source]\n",
    "        NUM_FEATURES = NUM_FEATURES_DICT[FUEL[SOURCE_COL]]\n",
    "\n",
    "        print(\"initializing dataset...\")\n",
    "        \n",
    "        dataset, dateTime = initDataset(IN_FILE_NAME, SOURCE_COL)\n",
    "        nearest_lower_timestamp = max(filter(lambda x: x <= np.datetime64(inference_timestamp), dateTime))\n",
    "\n",
    "        # Get data up to last_date and last 24 hours of data\n",
    "        last_past_date = pd.to_datetime(nearest_lower_timestamp).strftime(\"%Y-%m-%d %H:%M:%S\")\n",
    "        past = dataset.loc[dataset.index <= last_past_date].tail(24)\n",
    "\n",
    "        # Get data minimum last_date, max last_date + 24 hours of data\n",
    "        last_future_date = (pd.to_datetime(nearest_lower_timestamp) + pd.Timedelta(hours=24)).strftime(\"%Y-%m-%d %H:%M:%S\")\n",
    "        future = dataset.loc[dataset.index <= last_future_date].tail(24)\n",
    "\n",
    "        trainDates = dateTime[: -(NUM_TEST_DAYS*24)]\n",
    "        fullTrainDates = np.copy(trainDates)\n",
    "        trainDates, validationDates = trainDates[: -(NUM_VAL_DAYS*24)], trainDates[-(NUM_VAL_DAYS*24):]\n",
    "        testDates = future.index\n",
    "\n",
    "        past = past.iloc[:, SOURCE_COL: SOURCE_COL+NUM_FEATURES].values\n",
    "        future = future.iloc[:, SOURCE_COL: SOURCE_COL+NUM_FEATURES].values\n",
    "\n",
    "        print(\"past shape: \", past.shape) # (days x hour) x features\n",
    "        print(\"future shape: \", future.shape) # (days x hour) x features\n",
    "\n",
    "        for i in range(past.shape[0]):\n",
    "            for j in range(past.shape[1]):\n",
    "                if(np.isnan(past[i, j])):\n",
    "                    past[i, j] = past[i-1, j]\n",
    "\n",
    "        featureList = dataset.columns.values[SOURCE_COL:SOURCE_COL+NUM_FEATURES]\n",
    "        print(\"Features: \", featureList)\n",
    "\n",
    "        data = []\n",
    "        with open(f'../GhostPostCC/model/{source}_ann.pkl', 'rb') as f:\n",
    "            while True:\n",
    "                try:\n",
    "                    data.append(pickle.load(f))\n",
    "                except EOFError:\n",
    "                    break\n",
    "        \n",
    "        model = data[0]\n",
    "        ftMin = data[1]\n",
    "        ftMax = data[2]\n",
    "\n",
    "        print(\"Scaling data...\")\n",
    "        past, future = scale_dataset_trained(past, future, ftMin, ftMax)\n",
    "        print(\"***** Data scaling done *****\")\n",
    "        print(past.shape, future.shape)\n",
    "\n",
    "        history = past.tolist()\n",
    "        predictedData = get_day_ahead_forecasts(IN_MODEL_NAME, history, TRAINING_WINDOW_HOURS, NUM_FEATURES, 0)\n",
    "        formattedTestDates = manipulateTestDataShape(testDates, MODEL_SLIDING_WINDOW_LEN, PREDICTION_WINDOW_HOURS, True)\n",
    "        formattedTestDates = np.reshape(formattedTestDates, formattedTestDates.shape[0]*formattedTestDates.shape[1])\n",
    "\n",
    "        predictedData = predictedData.astype(np.float64)\n",
    "        print(\"PredictedData shape: \", predictedData.shape)\n",
    "        predicted = np.reshape(predictedData, predictedData.shape[0]*predictedData.shape[1])\n",
    "        print(\"predicted.shape: \", predicted.shape)\n",
    "        unScaledPredictedData = utility.inverseDataScaling(predicted, ftMax[0], ftMin[0])\n",
    "\n",
    "        data = []\n",
    "        for i in range(len(unScaledPredictedData)):\n",
    "            row = []\n",
    "            row.append(str(formattedTestDates[i]))\n",
    "            row.append(str(unScaledPredictedData[i]))\n",
    "            data.append(row)\n",
    "    return data"
   ]
  },
  {
   "cell_type": "code",
   "execution_count": 214,
   "metadata": {},
   "outputs": [],
   "source": [
    "# dataset, dateTime = initDataset(IN_FILE_NAME, SOURCE_COL)\n",
    "# nearest_lower_timestamp = max(filter(lambda x: x <= np.datetime64(inference_timestamp), dateTime))\n",
    "\n",
    "# # if nearest_lower_timestamp != inference_timestamp:\n",
    "# #     print(f\"No data available for inference timestamp {inference_timestamp}\")\n",
    "# #     continue\n",
    "\n",
    "# last_date = pd.to_datetime(nearest_lower_timestamp) + pd.Timedelta(hours=24)\n",
    "# last_date = last_date.strftime(\"%Y-%m-%d %H:%M:%S\")\n",
    "\n",
    "# # Get data up to last_date and last 24 hours of data\n",
    "# data_up_to_last_date = dataset.loc[dataset.index <= last_date].tail(24)\n",
    "# inference_data = data_up_to_last_date.iloc[:, SOURCE_COL:SOURCE_COL+NUM_FEATURES].values\n",
    "# dateTime = data_up_to_last_date.index"
   ]
  },
  {
   "cell_type": "code",
   "execution_count": 215,
   "metadata": {},
   "outputs": [
    {
     "name": "stdout",
     "output_type": "stream",
     "text": [
      "initializing dataset...\n",
      "                         Unnamed: 0  Net Generation (MW) from Coal  \\\n",
      "UTC Time at End of Hour                                              \n",
      "2021-01-01 06:00:00               0                        25367.0   \n",
      "2021-01-01 07:00:00               1                        24662.0   \n",
      "2021-01-01 08:00:00               2                        25365.0   \n",
      "2021-01-01 09:00:00               3                        24811.0   \n",
      "2021-01-01 10:00:00               4                        25041.0   \n",
      "\n",
      "                         Net Generation (MW) from Natural Gas  \\\n",
      "UTC Time at End of Hour                                         \n",
      "2021-01-01 06:00:00                                   15999.0   \n",
      "2021-01-01 07:00:00                                   16063.0   \n",
      "2021-01-01 08:00:00                                   16057.0   \n",
      "2021-01-01 09:00:00                                   15870.0   \n",
      "2021-01-01 10:00:00                                   15755.0   \n",
      "\n",
      "                         Net Generation (MW) from Nuclear  \\\n",
      "UTC Time at End of Hour                                     \n",
      "2021-01-01 06:00:00                               11534.0   \n",
      "2021-01-01 07:00:00                               11544.0   \n",
      "2021-01-01 08:00:00                               11555.0   \n",
      "2021-01-01 09:00:00                               11560.0   \n",
      "2021-01-01 10:00:00                               11565.0   \n",
      "\n",
      "                         Net Generation (MW) from All Petroleum Products  \\\n",
      "UTC Time at End of Hour                                                    \n",
      "2021-01-01 06:00:00                                                  NaN   \n",
      "2021-01-01 07:00:00                                                  NaN   \n",
      "2021-01-01 08:00:00                                                  NaN   \n",
      "2021-01-01 09:00:00                                                  NaN   \n",
      "2021-01-01 10:00:00                                                  NaN   \n",
      "\n",
      "                         Net Generation (MW) from Hydropower and Pumped Storage  \\\n",
      "UTC Time at End of Hour                                                           \n",
      "2021-01-01 06:00:00                                                  714.0        \n",
      "2021-01-01 07:00:00                                                  664.0        \n",
      "2021-01-01 08:00:00                                                  661.0        \n",
      "2021-01-01 09:00:00                                                  664.0        \n",
      "2021-01-01 10:00:00                                                  668.0        \n",
      "\n",
      "                         Net Generation (MW) from Solar  \\\n",
      "UTC Time at End of Hour                                   \n",
      "2021-01-01 06:00:00                                 0.0   \n",
      "2021-01-01 07:00:00                                 0.0   \n",
      "2021-01-01 08:00:00                                 0.0   \n",
      "2021-01-01 09:00:00                                 0.0   \n",
      "2021-01-01 10:00:00                                 0.0   \n",
      "\n",
      "                         Net Generation (MW) from Wind  \\\n",
      "UTC Time at End of Hour                                  \n",
      "2021-01-01 06:00:00                             9486.0   \n",
      "2021-01-01 07:00:00                             8780.0   \n",
      "2021-01-01 08:00:00                             6912.0   \n",
      "2021-01-01 09:00:00                             5967.0   \n",
      "2021-01-01 10:00:00                             5074.0   \n",
      "\n",
      "                         Net Generation (MW) from Other  \n",
      "UTC Time at End of Hour                                  \n",
      "2021-01-01 06:00:00                               840.0  \n",
      "2021-01-01 07:00:00                               840.0  \n",
      "2021-01-01 08:00:00                               839.0  \n",
      "2021-01-01 09:00:00                               840.0  \n",
      "2021-01-01 10:00:00                               844.0  \n",
      "Index(['Unnamed: 0', 'Net Generation (MW) from Coal',\n",
      "       'Net Generation (MW) from Natural Gas',\n",
      "       'Net Generation (MW) from Nuclear',\n",
      "       'Net Generation (MW) from All Petroleum Products',\n",
      "       'Net Generation (MW) from Hydropower and Pumped Storage',\n",
      "       'Net Generation (MW) from Solar', 'Net Generation (MW) from Wind',\n",
      "       'Net Generation (MW) from Other'],\n",
      "      dtype='object')\n",
      "\n",
      "Adding features related to date & time...\n"
     ]
    },
    {
     "name": "stderr",
     "output_type": "stream",
     "text": [
      "/var/folders/fh/7sz134vx5jq6_78w16smcs3h0000gn/T/ipykernel_25272/2017388480.py:2: FutureWarning: The argument 'infer_datetime_format' is deprecated and will be removed in a future version. A strict version of it is now the default, see https://pandas.pydata.org/pdeps/0004-consistent-to-datetime-parsing.html. You can safely remove this argument.\n",
      "  dataset = pd.read_csv(inFileName, header=0, infer_datetime_format=True, parse_dates=['UTC Time at End of Hour'], index_col=['UTC Time at End of Hour'])\n"
     ]
    },
    {
     "name": "stdout",
     "output_type": "stream",
     "text": [
      "18738 7536\n",
      "                         Unnamed: 0  Net Generation (MW) from Coal  \\\n",
      "UTC Time at End of Hour                                              \n",
      "2021-01-01 06:00:00               0                        25367.0   \n",
      "2021-01-01 07:00:00               1                        24662.0   \n",
      "2021-01-01 08:00:00               2                        25365.0   \n",
      "2021-01-01 09:00:00               3                        24811.0   \n",
      "2021-01-01 10:00:00               4                        25041.0   \n",
      "\n",
      "                         Net Generation (MW) from Natural Gas  \\\n",
      "UTC Time at End of Hour                                         \n",
      "2021-01-01 06:00:00                                   15999.0   \n",
      "2021-01-01 07:00:00                                   16063.0   \n",
      "2021-01-01 08:00:00                                   16057.0   \n",
      "2021-01-01 09:00:00                                   15870.0   \n",
      "2021-01-01 10:00:00                                   15755.0   \n",
      "\n",
      "                         Net Generation (MW) from Nuclear  \\\n",
      "UTC Time at End of Hour                                     \n",
      "2021-01-01 06:00:00                               11534.0   \n",
      "2021-01-01 07:00:00                               11544.0   \n",
      "2021-01-01 08:00:00                               11555.0   \n",
      "2021-01-01 09:00:00                               11560.0   \n",
      "2021-01-01 10:00:00                               11565.0   \n",
      "\n",
      "                         Net Generation (MW) from All Petroleum Products  \\\n",
      "UTC Time at End of Hour                                                    \n",
      "2021-01-01 06:00:00                                                  NaN   \n",
      "2021-01-01 07:00:00                                                  NaN   \n",
      "2021-01-01 08:00:00                                                  NaN   \n",
      "2021-01-01 09:00:00                                                  NaN   \n",
      "2021-01-01 10:00:00                                                  NaN   \n",
      "\n",
      "                         Net Generation (MW) from Hydropower and Pumped Storage  \\\n",
      "UTC Time at End of Hour                                                           \n",
      "2021-01-01 06:00:00                                                  714.0        \n",
      "2021-01-01 07:00:00                                                  664.0        \n",
      "2021-01-01 08:00:00                                                  661.0        \n",
      "2021-01-01 09:00:00                                                  664.0        \n",
      "2021-01-01 10:00:00                                                  668.0        \n",
      "\n",
      "                         Net Generation (MW) from Solar  \\\n",
      "UTC Time at End of Hour                                   \n",
      "2021-01-01 06:00:00                                 0.0   \n",
      "2021-01-01 07:00:00                                 0.0   \n",
      "2021-01-01 08:00:00                                 0.0   \n",
      "2021-01-01 09:00:00                                 0.0   \n",
      "2021-01-01 10:00:00                                 0.0   \n",
      "\n",
      "                         Net Generation (MW) from Wind  hour_sin  \\\n",
      "UTC Time at End of Hour                                            \n",
      "2021-01-01 06:00:00                             9486.0  1.000000   \n",
      "2021-01-01 07:00:00                             8780.0  0.965926   \n",
      "2021-01-01 08:00:00                             6912.0  0.866025   \n",
      "2021-01-01 09:00:00                             5967.0  0.707107   \n",
      "2021-01-01 10:00:00                             5074.0  0.500000   \n",
      "\n",
      "                             hour_cos  month_sin  month_cos  weekend  \\\n",
      "UTC Time at End of Hour                                                \n",
      "2021-01-01 06:00:00      6.123234e-17   0.008601   0.999963        0   \n",
      "2021-01-01 07:00:00     -2.588190e-01   0.009318   0.999957        0   \n",
      "2021-01-01 08:00:00     -5.000000e-01   0.010035   0.999950        0   \n",
      "2021-01-01 09:00:00     -7.071068e-01   0.010751   0.999942        0   \n",
      "2021-01-01 10:00:00     -8.660254e-01   0.011468   0.999934        0   \n",
      "\n",
      "                         Net Generation (MW) from Other  \n",
      "UTC Time at End of Hour                                  \n",
      "2021-01-01 06:00:00                               840.0  \n",
      "2021-01-01 07:00:00                               840.0  \n",
      "2021-01-01 08:00:00                               839.0  \n",
      "2021-01-01 09:00:00                               840.0  \n",
      "2021-01-01 10:00:00                               844.0  \n",
      "Features related to date & time added\n",
      "past shape:  (24, 6)\n",
      "future shape:  (24, 6)\n",
      "Features:  ['Net Generation (MW) from Wind' 'hour_sin' 'hour_cos' 'month_sin'\n",
      " 'month_cos' 'weekend']\n",
      "Scaling data...\n",
      "***** Data scaling done *****\n",
      "(24, 6) (24, 6)\n"
     ]
    },
    {
     "name": "stdout",
     "output_type": "stream",
     "text": [
      "Generating day-ahead forecasts...\n"
     ]
    },
    {
     "ename": "ValueError",
     "evalue": "Exception encountered when calling Sequential.call().\n\n\u001b[1mInput 0 of layer \"dense_168\" is incompatible with the layer: expected axis -1 of input shape to have value 312, but received input with shape (1, 144)\u001b[0m\n\nArguments received by Sequential.call():\n  • inputs=tf.Tensor(shape=(1, 24, 6), dtype=float32)\n  • training=False\n  • mask=None",
     "output_type": "error",
     "traceback": [
      "\u001b[0;31m---------------------------------------------------------------------------\u001b[0m",
      "\u001b[0;31mValueError\u001b[0m                                Traceback (most recent call last)",
      "Cell \u001b[0;32mIn[215], line 1\u001b[0m\n\u001b[0;32m----> 1\u001b[0m \u001b[43minference\u001b[49m\u001b[43m(\u001b[49m\u001b[43m[\u001b[49m\u001b[38;5;124;43m'\u001b[39;49m\u001b[38;5;124;43mwind\u001b[39;49m\u001b[38;5;124;43m'\u001b[39;49m\u001b[43m]\u001b[49m\u001b[43m,\u001b[49m\u001b[43m \u001b[49m\u001b[38;5;124;43m'\u001b[39;49m\u001b[38;5;124;43m2023-04-07 10:02:00\u001b[39;49m\u001b[38;5;124;43m'\u001b[39;49m\u001b[43m)\u001b[49m\n",
      "Cell \u001b[0;32mIn[213], line 246\u001b[0m, in \u001b[0;36minference\u001b[0;34m(fuel_sources, inference_timestamp)\u001b[0m\n\u001b[1;32m    243\u001b[0m \u001b[38;5;28mprint\u001b[39m(past\u001b[38;5;241m.\u001b[39mshape, future\u001b[38;5;241m.\u001b[39mshape)\n\u001b[1;32m    245\u001b[0m history \u001b[38;5;241m=\u001b[39m past\u001b[38;5;241m.\u001b[39mtolist()\n\u001b[0;32m--> 246\u001b[0m predictedData \u001b[38;5;241m=\u001b[39m \u001b[43mget_day_ahead_forecasts\u001b[49m\u001b[43m(\u001b[49m\u001b[43mIN_MODEL_NAME\u001b[49m\u001b[43m,\u001b[49m\u001b[43m \u001b[49m\u001b[43mhistory\u001b[49m\u001b[43m,\u001b[49m\u001b[43m \u001b[49m\u001b[43mTRAINING_WINDOW_HOURS\u001b[49m\u001b[43m,\u001b[49m\u001b[43m \u001b[49m\u001b[43mNUM_FEATURES\u001b[49m\u001b[43m,\u001b[49m\u001b[43m \u001b[49m\u001b[38;5;241;43m0\u001b[39;49m\u001b[43m)\u001b[49m\n\u001b[1;32m    247\u001b[0m formattedTestDates \u001b[38;5;241m=\u001b[39m manipulateTestDataShape(testDates, MODEL_SLIDING_WINDOW_LEN, PREDICTION_WINDOW_HOURS, \u001b[38;5;28;01mTrue\u001b[39;00m)\n\u001b[1;32m    248\u001b[0m formattedTestDates \u001b[38;5;241m=\u001b[39m np\u001b[38;5;241m.\u001b[39mreshape(formattedTestDates, formattedTestDates\u001b[38;5;241m.\u001b[39mshape[\u001b[38;5;241m0\u001b[39m]\u001b[38;5;241m*\u001b[39mformattedTestDates\u001b[38;5;241m.\u001b[39mshape[\u001b[38;5;241m1\u001b[39m])\n",
      "Cell \u001b[0;32mIn[213], line 28\u001b[0m, in \u001b[0;36mget_day_ahead_forecasts\u001b[0;34m(model_filepath, history, train_window_hours, num_features, dep_var_column)\u001b[0m\n\u001b[1;32m     25\u001b[0m current_day_hours \u001b[38;5;241m=\u001b[39m i \u001b[38;5;241m*\u001b[39m MODEL_SLIDING_WINDOW_LEN\n\u001b[1;32m     26\u001b[0m \u001b[38;5;28;01mfor\u001b[39;00m j \u001b[38;5;129;01min\u001b[39;00m \u001b[38;5;28mrange\u001b[39m(\u001b[38;5;241m0\u001b[39m, PREDICTION_WINDOW_HOURS, \u001b[38;5;241m24\u001b[39m):\n\u001b[1;32m     27\u001b[0m     \u001b[38;5;66;03m# Get forecasts for the next 24 hours\u001b[39;00m\n\u001b[0;32m---> 28\u001b[0m     yhat_sequence, new_training_data \u001b[38;5;241m=\u001b[39m \u001b[43mget_forecasts\u001b[49m\u001b[43m(\u001b[49m\u001b[43mmodel\u001b[49m\u001b[43m,\u001b[49m\u001b[43m \u001b[49m\u001b[43mtemp_history\u001b[49m\u001b[43m,\u001b[49m\u001b[43m \u001b[49m\u001b[43mtrain_window_hours\u001b[49m\u001b[43m,\u001b[49m\u001b[43m \u001b[49m\u001b[43mnum_features\u001b[49m\u001b[43m)\u001b[49m\n\u001b[1;32m     29\u001b[0m     day_ahead_predictions\u001b[38;5;241m.\u001b[39mextend(yhat_sequence)\n\u001b[1;32m     30\u001b[0m     \u001b[38;5;66;03m# Update history for predicting the next day\u001b[39;00m\n",
      "Cell \u001b[0;32mIn[213], line 53\u001b[0m, in \u001b[0;36mget_forecasts\u001b[0;34m(model, history, train_window_hours, num_features)\u001b[0m\n\u001b[1;32m     51\u001b[0m input_x \u001b[38;5;241m=\u001b[39m input_x\u001b[38;5;241m.\u001b[39mreshape((\u001b[38;5;241m1\u001b[39m, \u001b[38;5;28mlen\u001b[39m(input_x), num_features))\n\u001b[1;32m     52\u001b[0m \u001b[38;5;66;03m# Make predictions\u001b[39;00m\n\u001b[0;32m---> 53\u001b[0m yhat \u001b[38;5;241m=\u001b[39m \u001b[43mmodel\u001b[49m\u001b[38;5;241;43m.\u001b[39;49m\u001b[43mpredict\u001b[49m\u001b[43m(\u001b[49m\u001b[43minput_x\u001b[49m\u001b[43m,\u001b[49m\u001b[43m \u001b[49m\u001b[43mverbose\u001b[49m\u001b[38;5;241;43m=\u001b[39;49m\u001b[38;5;241;43m0\u001b[39;49m\u001b[43m)\u001b[49m\n\u001b[1;32m     54\u001b[0m \u001b[38;5;66;03m# Extract the vector forecast\u001b[39;00m\n\u001b[1;32m     55\u001b[0m yhat \u001b[38;5;241m=\u001b[39m yhat[\u001b[38;5;241m0\u001b[39m]\n",
      "File \u001b[0;32m~/.pyenv/versions/3.10.14/envs/GhostPostCC/lib/python3.10/site-packages/keras/src/utils/traceback_utils.py:122\u001b[0m, in \u001b[0;36mfilter_traceback.<locals>.error_handler\u001b[0;34m(*args, **kwargs)\u001b[0m\n\u001b[1;32m    119\u001b[0m     filtered_tb \u001b[38;5;241m=\u001b[39m _process_traceback_frames(e\u001b[38;5;241m.\u001b[39m__traceback__)\n\u001b[1;32m    120\u001b[0m     \u001b[38;5;66;03m# To get the full stack trace, call:\u001b[39;00m\n\u001b[1;32m    121\u001b[0m     \u001b[38;5;66;03m# `keras.config.disable_traceback_filtering()`\u001b[39;00m\n\u001b[0;32m--> 122\u001b[0m     \u001b[38;5;28;01mraise\u001b[39;00m e\u001b[38;5;241m.\u001b[39mwith_traceback(filtered_tb) \u001b[38;5;28;01mfrom\u001b[39;00m \u001b[38;5;28;01mNone\u001b[39;00m\n\u001b[1;32m    123\u001b[0m \u001b[38;5;28;01mfinally\u001b[39;00m:\n\u001b[1;32m    124\u001b[0m     \u001b[38;5;28;01mdel\u001b[39;00m filtered_tb\n",
      "File \u001b[0;32m~/.pyenv/versions/3.10.14/envs/GhostPostCC/lib/python3.10/site-packages/keras/src/layers/input_spec.py:227\u001b[0m, in \u001b[0;36massert_input_compatibility\u001b[0;34m(input_spec, inputs, layer_name)\u001b[0m\n\u001b[1;32m    222\u001b[0m     \u001b[38;5;28;01mfor\u001b[39;00m axis, value \u001b[38;5;129;01min\u001b[39;00m spec\u001b[38;5;241m.\u001b[39maxes\u001b[38;5;241m.\u001b[39mitems():\n\u001b[1;32m    223\u001b[0m         \u001b[38;5;28;01mif\u001b[39;00m value \u001b[38;5;129;01mis\u001b[39;00m \u001b[38;5;129;01mnot\u001b[39;00m \u001b[38;5;28;01mNone\u001b[39;00m \u001b[38;5;129;01mand\u001b[39;00m shape[axis] \u001b[38;5;129;01mnot\u001b[39;00m \u001b[38;5;129;01min\u001b[39;00m {\n\u001b[1;32m    224\u001b[0m             value,\n\u001b[1;32m    225\u001b[0m             \u001b[38;5;28;01mNone\u001b[39;00m,\n\u001b[1;32m    226\u001b[0m         }:\n\u001b[0;32m--> 227\u001b[0m             \u001b[38;5;28;01mraise\u001b[39;00m \u001b[38;5;167;01mValueError\u001b[39;00m(\n\u001b[1;32m    228\u001b[0m                 \u001b[38;5;124mf\u001b[39m\u001b[38;5;124m'\u001b[39m\u001b[38;5;124mInput \u001b[39m\u001b[38;5;132;01m{\u001b[39;00minput_index\u001b[38;5;132;01m}\u001b[39;00m\u001b[38;5;124m of layer \u001b[39m\u001b[38;5;124m\"\u001b[39m\u001b[38;5;132;01m{\u001b[39;00mlayer_name\u001b[38;5;132;01m}\u001b[39;00m\u001b[38;5;124m\"\u001b[39m\u001b[38;5;124m is \u001b[39m\u001b[38;5;124m'\u001b[39m\n\u001b[1;32m    229\u001b[0m                 \u001b[38;5;124mf\u001b[39m\u001b[38;5;124m\"\u001b[39m\u001b[38;5;124mincompatible with the layer: expected axis \u001b[39m\u001b[38;5;132;01m{\u001b[39;00maxis\u001b[38;5;132;01m}\u001b[39;00m\u001b[38;5;124m \u001b[39m\u001b[38;5;124m\"\u001b[39m\n\u001b[1;32m    230\u001b[0m                 \u001b[38;5;124mf\u001b[39m\u001b[38;5;124m\"\u001b[39m\u001b[38;5;124mof input shape to have value \u001b[39m\u001b[38;5;132;01m{\u001b[39;00mvalue\u001b[38;5;132;01m}\u001b[39;00m\u001b[38;5;124m, \u001b[39m\u001b[38;5;124m\"\u001b[39m\n\u001b[1;32m    231\u001b[0m                 \u001b[38;5;124m\"\u001b[39m\u001b[38;5;124mbut received input with \u001b[39m\u001b[38;5;124m\"\u001b[39m\n\u001b[1;32m    232\u001b[0m                 \u001b[38;5;124mf\u001b[39m\u001b[38;5;124m\"\u001b[39m\u001b[38;5;124mshape \u001b[39m\u001b[38;5;132;01m{\u001b[39;00mshape\u001b[38;5;132;01m}\u001b[39;00m\u001b[38;5;124m\"\u001b[39m\n\u001b[1;32m    233\u001b[0m             )\n\u001b[1;32m    234\u001b[0m \u001b[38;5;66;03m# Check shape.\u001b[39;00m\n\u001b[1;32m    235\u001b[0m \u001b[38;5;28;01mif\u001b[39;00m spec\u001b[38;5;241m.\u001b[39mshape \u001b[38;5;129;01mis\u001b[39;00m \u001b[38;5;129;01mnot\u001b[39;00m \u001b[38;5;28;01mNone\u001b[39;00m:\n",
      "\u001b[0;31mValueError\u001b[0m: Exception encountered when calling Sequential.call().\n\n\u001b[1mInput 0 of layer \"dense_168\" is incompatible with the layer: expected axis -1 of input shape to have value 312, but received input with shape (1, 144)\u001b[0m\n\nArguments received by Sequential.call():\n  • inputs=tf.Tensor(shape=(1, 24, 6), dtype=float32)\n  • training=False\n  • mask=None"
     ]
    }
   ],
   "source": [
    "inference(['wind'], '2023-04-07 10:02:00')"
   ]
  },
  {
   "cell_type": "code",
   "execution_count": null,
   "metadata": {},
   "outputs": [],
   "source": []
  },
  {
   "cell_type": "code",
   "execution_count": null,
   "metadata": {},
   "outputs": [],
   "source": []
  },
  {
   "cell_type": "code",
   "execution_count": null,
   "metadata": {},
   "outputs": [],
   "source": [
    "def get_day_ahead_forecasts(model_filepath, history, train_window_hours, num_features, dep_var_column):\n",
    "    global MODEL_SLIDING_WINDOW_LEN\n",
    "    global PREDICTION_WINDOW_HOURS\n",
    "    \n",
    "    # Load the trained ANN model\n",
    "    model = load_model(model_filepath)\n",
    "\n",
    "    # walk-forward validation over each day\n",
    "    print(\"Generating day-ahead forecasts...\")\n",
    "    predictions = []\n",
    "    for i in range(len(history) // 24):\n",
    "        day_ahead_predictions = []\n",
    "        temp_history = history.copy()\n",
    "        current_day_hours = i * MODEL_SLIDING_WINDOW_LEN\n",
    "        for j in range(0, PREDICTION_WINDOW_HOURS, 24):\n",
    "            # Get forecasts for the next 24 hours\n",
    "            yhat_sequence, new_training_data = get_forecasts(model, temp_history, train_window_hours, num_features)\n",
    "            day_ahead_predictions.extend(yhat_sequence)\n",
    "            # Update history for predicting the next day\n",
    "            latest_history = history[current_day_hours + j : current_day_hours + j + 24].copy()\n",
    "            for k in range(24):\n",
    "                latest_history[k][dep_var_column] = yhat_sequence[k]\n",
    "            temp_history = np.concatenate([temp_history, latest_history], axis=0)\n",
    "\n",
    "        # Update history for predicting the next day\n",
    "        history = np.concatenate([history, history[current_day_hours : current_day_hours + MODEL_SLIDING_WINDOW_LEN]], axis=0)\n",
    "        predictions.append(day_ahead_predictions)\n",
    "\n",
    "    # Convert predictions to numpy array\n",
    "    predicted_data = np.array(predictions, dtype=np.float64)\n",
    "    return predicted_data\n"
   ]
  },
  {
   "cell_type": "code",
   "execution_count": null,
   "metadata": {},
   "outputs": [],
   "source": []
  },
  {
   "cell_type": "code",
   "execution_count": 175,
   "metadata": {},
   "outputs": [],
   "source": [
    "data2 = []\n",
    "with open('../GhostPostCC/model/coal_ann.pkl', 'rb') as f:\n",
    "    while True:\n",
    "        try:\n",
    "            data2.append(pickle.load(f))\n",
    "        except EOFError:\n",
    "            break"
   ]
  },
  {
   "cell_type": "code",
   "execution_count": 176,
   "metadata": {},
   "outputs": [
    {
     "data": {
      "text/plain": [
       "[<Sequential name=sequential_37, built=True>,\n",
       " [8137.0, -1.0, -1.0, -0.9999999357805159, -1.0, 0.0],\n",
       " [43316.0, 1.0, 1.0, 0.9999999357805159, 1.0, 1.0]]"
      ]
     },
     "execution_count": 176,
     "metadata": {},
     "output_type": "execute_result"
    }
   ],
   "source": [
    "data2"
   ]
  },
  {
   "cell_type": "code",
   "execution_count": null,
   "metadata": {},
   "outputs": [],
   "source": []
  }
 ],
 "metadata": {
  "kernelspec": {
   "display_name": "DACF",
   "language": "python",
   "name": "python3"
  },
  "language_info": {
   "codemirror_mode": {
    "name": "ipython",
    "version": 3
   },
   "file_extension": ".py",
   "mimetype": "text/x-python",
   "name": "python",
   "nbconvert_exporter": "python",
   "pygments_lexer": "ipython3",
   "version": "3.10.14"
  }
 },
 "nbformat": 4,
 "nbformat_minor": 2
}
